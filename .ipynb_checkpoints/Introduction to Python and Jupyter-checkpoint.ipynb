{
 "cells": [
  {
   "cell_type": "markdown",
   "metadata": {},
   "source": [
    "# Introduction to Python\n",
    "\n",
    "Python is organised in packages, modules and functions in that hierarchical order. The most important Python packages for scientific calculations are **numpy** and **scipy**. The basic package for generating scientific plots is **matplotlib**.\n",
    "Python packages typically contain several modules, where each module is a separate file with file ending \".py\". For instance, scipy contains the module **stats** and matplotlib the module **pyplot**.\n",
    "Each module can contain several functions. \n",
    "\n",
    "\n",
    "A Python program starts with an import of the required modules such as"
   ]
  },
  {
   "cell_type": "code",
   "execution_count": 3,
   "metadata": {
    "collapsed": false
   },
   "outputs": [],
   "source": [
    "import numpy as np    # import the whole package numpy \n",
    "import matplotlib.pyplot as plt # import the subpacke pyplot\n",
    "from scipy.stats import norm  # import the function norm"
   ]
  },
  {
   "cell_type": "markdown",
   "metadata": {},
   "source": [
    "In this workshop we use **jupyter notebooks** which, like IPython, offer *magic commands*. For instance, all our notebooks start with\n",
    "``` python\n",
    "    %pylab inline\n",
    "```\n",
    "This populates all numpy and matplotlib.pyplot functions to the main namespace, resulting in a similar environment as for instance in Matlab.\n",
    "\n",
    "* When a function is imported (such as _normal_ above) it can be used by its name.\n",
    "* When a module is imported, then its functions are used by appending a \".\" and the function's name to the module name\n",
    "``` python\n",
    "    np.sqrt()\n",
    "```\n",
    "* When the sought function is located in a sub-module, the \".\" notation can be used again\n",
    "``` python\n",
    "    np.linalg.lstsq()\n",
    "```\n",
    "\n",
    "Functions in Python can have necessary and optional arguments. Optional arguments are defined by keyword, that is their name in the function call.\n",
    "\n",
    "``` python\n",
    "    normal.pdf(x, loc = 0, scale = 1)\n",
    "```\n",
    "\n",
    "Keyword arguments are used to define default values for arguments that can be changed by the user.\n",
    "\n"
   ]
  },
  {
   "cell_type": "markdown",
   "metadata": {},
   "source": [
    "### Vectors and matrices\n",
    "\n",
    "The Python package **numpy** contains several powerful tools for efficient matrix-vector algebra.\n",
    "\n",
    "A vector in Python is a numpy array:\n",
    "``` python\n",
    "   import numpy as np\n",
    "   vec = np.array( [ 1, 2, 3 ] )\n",
    "```\n",
    "\n",
    "Similarly, a matrix is a two-dimensional numpy array:\n",
    "``` python\n",
    "   mat = np.array( [ [1, 2, 3], [1, 4, 9], [1, 8, 27] ] )\n",
    "```\n",
    "\n",
    "Calculations with matrices and vectors are implemented easily:\n",
    "\n",
    "* addition and subtraction\n",
    "```python \n",
    "    vec + vec   \n",
    "    vec - vec\n",
    "```\n",
    "\n",
    "* element-wise multiplication and division\n",
    "```python\n",
    "    vec * vec\n",
    "    vec / vec\n",
    "```\n",
    "\n",
    "* matrix transpose\n",
    "```python\n",
    "    transposed = mat.T\n",
    "```\n",
    "\n",
    "Special vector and matrix algebra are built-in numpy functions\n",
    "\n",
    "* inner product\n",
    "```python\n",
    "    np.dot( vec1, vec )\n",
    "    np.dot( mat, vec )\n",
    "```\n",
    "\n",
    "* matrix inverse\n",
    "```python\n",
    "    np.linalg.inverse(mat)\n",
    "```\n",
    "\n",
    "* matrix rank\n",
    "```python\n",
    "    np.linalg.matrix_rank(mat)\n",
    "```\n",
    "\n",
    "Indexing into a vector\n",
    "\n",
    "* indexing in Python starts at $0$\n",
    "* ranges can be obtained using $:$\n",
    "\n",
    "``` python\n",
    "    v = np.array([1,2,3,4,5,6])\n",
    "    v[3] = 4\n",
    "    v[1:5] = np.array([2,3,4,5])\n",
    "    v[:3] = np.array([1,2,3])\n",
    "    v[-1] = 6\n",
    "```\n",
    "\n",
    "\n",
    "* matrices are indexed as\n",
    "``` python\n",
    "    mat[2,3]\n",
    "    mat[:3,2:4]\n",
    "```\n",
    "\n",
    "* fancy indexing also works\n",
    "``` python\n",
    "    v = np.array([2,3,4,5])\n",
    "    w = np.array([11,12,13,14])\n",
    "    w[v>3] = np.array([13,14])\n",
    "```\n",
    "\n",
    "Some special arrays can be generated using built-in numpy functions\n",
    "\n",
    "* array containing all zeros or ones\n",
    "```python\n",
    "    mat = np.ones( (100, 10) )\n",
    "    vec = np.zeros(100)\n",
    "    complex_mat = np.zeros( (20, 20), dtype=complex )\n",
    "```"
   ]
  },
  {
   "cell_type": "markdown",
   "metadata": {},
   "source": [
    "### Plotting\n",
    "\n",
    "The **matplotlib.pyplot** package contains several functions for basic plotting tasks. Its syntax is very similar to that of Matlab.\n",
    "\n",
    "\n",
    "``` python\n",
    "    import matplotlib.pyplot as plt\n",
    "    \n",
    "    plt.figure(1)\n",
    "    plt.plot(time, signal, label=\"my signal\")\n",
    "    plt.legend(loc=\"upper left\")\n",
    "    plt.xlabel(\"x axis\")\n",
    "    plt.ylabel(\"y axis\")\n",
    "    \n",
    "    plt.figure(2)\n",
    "    plt.hist(signal, bins=100)\n",
    "    plt.title(\"histogram of values in signal\")\n",
    "```"
   ]
  },
  {
   "cell_type": "markdown",
   "metadata": {},
   "source": [
    "### EXAMPLE GUM-S1 4.1.1\n",
    "\n",
    "Modelling power $P$ (the measurand) dissipated by a resistor at the temperatur $t$ dependent on potential difference $V$, resistance $R_0$, linear temperature coefficient of resistance $\\alpha$ and defined temperature $t_0$:\n",
    "\n",
    "$$ P = \\frac{V^2}{R_0[1+\\alpha(t-t_0)]} $$\n",
    "\n",
    "### Task\n",
    "Plot the value of $P$ for a range of temperatures with some chosen value for the other input quantities."
   ]
  },
  {
   "cell_type": "code",
   "execution_count": 6,
   "metadata": {
    "collapsed": false
   },
   "outputs": [
    {
     "data": {
      "image/png": "[encoded data removed]",
      "text/plain": [
       "<matplotlib.figure.Figure at 0x10e5b5c88>"
      ]
     },
     "metadata": {},
     "output_type": "display_data"
    }
   ],
   "source": [
    "t0 = 20.0\n",
    "alpha = 0.9\n",
    "R_0 = 1.3\n",
    "V = 10\n",
    "t = np.arange(21, 30, 0.5) # different temperature values ranging from 21 to 30 in steps of 0.5\n",
    "\n",
    "P = V**2 / (R_0 * (1+alpha*(t-t0)))\n",
    "\n",
    "plt.figure(1)\n",
    "plt.plot(t, P)\n",
    "plt.xlabel(\"temperature / °C\")\n",
    "plt.ylabel(\"power / W\")\n",
    "plt.show()"
   ]
  }
 ],
 "metadata": {
  "anaconda-cloud": {},
  "kernelspec": {
   "display_name": "Python [conda root]",
   "language": "python",
   "name": "conda-root-py"
  },
  "language_info": {
   "codemirror_mode": {
    "name": "ipython",
    "version": 3
   },
   "file_extension": ".py",
   "mimetype": "text/x-python",
   "name": "python",
   "nbconvert_exporter": "python",
   "pygments_lexer": "ipython3",
   "version": "3.5.2"
  }
 },
 "nbformat": 4,
 "nbformat_minor": 1
}
