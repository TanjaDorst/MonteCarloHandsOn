{
 "cells": [
  {
   "cell_type": "markdown",
   "metadata": {
    "nbpresent": {
     "id": "0efe5fa0-71df-4f32-9001-97c51efe3772"
    }
   },
   "source": [
    "# Introduction to Python"
   ]
  },
  {
   "cell_type": "markdown",
   "metadata": {
    "nbpresent": {
     "id": "576823eb-1b49-4820-8add-858bfdd6df24"
    }
   },
   "source": [
    "Python is organised in packages, modules and functions in that hierarchical order. The most important Python packages for scientific calculations are **numpy** and **scipy**. The basic package for generating scientific plots is **matplotlib**.\n",
    "Python packages typically contain several modules, where each module is a separate file with file ending \".py\". For instance, scipy contains the module **stats** and matplotlib the module **pyplot**.\n",
    "Each module can contain several functions. \n",
    "\n",
    "\n",
    "A Python program starts with an import of the required modules such as"
   ]
  },
  {
   "cell_type": "code",
   "execution_count": 4,
   "metadata": {
    "collapsed": false,
    "nbpresent": {
     "id": "ec82abeb-2a05-43e4-aaa0-adc9ed317658"
    }
   },
   "outputs": [],
   "source": [
    "import numpy as np    # import the whole package numpy \n",
    "import matplotlib.pyplot as plt # import the subpacke pyplot\n",
    "from scipy.stats import norm  # import the function norm"
   ]
  },
  {
   "cell_type": "markdown",
   "metadata": {
    "nbpresent": {
     "id": "f5392fe1-27ce-48f0-8538-027365113df6"
    }
   },
   "source": [
    "In this workshop we use **jupyter notebooks** which, like IPython, offer *magic commands*. For instance, all our notebooks start with\n",
    "``` python\n",
    "    %pylab inline\n",
    "```\n",
    "This populates all numpy and matplotlib.pyplot functions to the main namespace, resulting in a similar environment as for instance in Matlab.\n",
    "\n",
    "\n",
    "\n"
   ]
  },
  {
   "cell_type": "markdown",
   "metadata": {
    "nbpresent": {
     "id": "a130f5d6-d991-4cc1-9b0d-8a186ba9b2e1"
    }
   },
   "source": [
    "* When a function is imported (such as _normal_ above) it can be used by its name.\n",
    "* When a module is imported, then its functions are used by appending a \".\" and the function's name to the module name\n",
    "``` python\n",
    "    np.sqrt()\n",
    "```\n",
    "* When the sought function is located in a sub-module, the \".\" notation can be used again\n",
    "``` python\n",
    "    np.linalg.lstsq()\n",
    "```\n"
   ]
  },
  {
   "cell_type": "markdown",
   "metadata": {
    "nbpresent": {
     "id": "27990c94-c07a-4033-89b4-162bcf87219e"
    }
   },
   "source": [
    "\n",
    "Functions in Python can have necessary and optional arguments. Optional arguments are defined by keyword, that is their name in the function call.\n",
    "\n",
    "``` python\n",
    "    normal.pdf(x, loc = 0, scale = 1)\n",
    "```\n",
    "\n",
    "Keyword arguments are used to define default values for arguments that can be changed by the user."
   ]
  },
  {
   "cell_type": "markdown",
   "metadata": {
    "nbpresent": {
     "id": "7361daad-abe3-4e8f-8778-410a744da838"
    }
   },
   "source": [
    "## Vectors and matrices"
   ]
  },
  {
   "cell_type": "markdown",
   "metadata": {
    "nbpresent": {
     "id": "123200b3-9bb1-4d52-bf74-770fd794a4f4"
    }
   },
   "source": [
    "\n",
    "\n",
    "The Python package **numpy** contains several powerful tools for efficient matrix-vector algebra.\n",
    "\n",
    "A vector in Python is a numpy array:\n",
    "``` python\n",
    "   import numpy as np\n",
    "   vec = np.array( [ 1, 2, 3 ] )\n",
    "```\n",
    "\n",
    "Similarly, a matrix is a two-dimensional numpy array:\n",
    "``` python\n",
    "   mat = np.array( [ [1, 2, 3], [1, 4, 9], [1, 8, 27] ] )\n",
    "```\n",
    "\n"
   ]
  },
  {
   "cell_type": "markdown",
   "metadata": {
    "nbpresent": {
     "id": "33ee6f0f-5525-4564-844c-df4f35e478c7"
    }
   },
   "source": [
    "Calculations with matrices and vectors are implemented easily:\n",
    "\n",
    "* addition and subtraction\n",
    "```python \n",
    "    vec + vec   \n",
    "    vec - vec\n",
    "```\n",
    "\n",
    "* element-wise multiplication and division\n",
    "```python\n",
    "    vec * vec\n",
    "    vec / vec\n",
    "```\n",
    "\n",
    "* matrix transpose\n",
    "```python\n",
    "    transposed = mat.T\n",
    "```\n",
    "\n"
   ]
  },
  {
   "cell_type": "markdown",
   "metadata": {
    "nbpresent": {
     "id": "8feea847-0f74-409f-a83f-fa1fddc5e027"
    }
   },
   "source": [
    "Special vector and matrix algebra are built-in numpy functions\n",
    "\n",
    "* inner product\n",
    "```python\n",
    "    np.dot( vec1, vec )\n",
    "    np.dot( mat, vec )\n",
    "```\n",
    "\n",
    "* matrix inverse\n",
    "```python\n",
    "    np.linalg.inverse(mat)\n",
    "```\n",
    "\n",
    "* matrix rank\n",
    "```python\n",
    "    np.linalg.matrix_rank(mat)\n",
    "```\n",
    "\n"
   ]
  },
  {
   "cell_type": "markdown",
   "metadata": {
    "nbpresent": {
     "id": "d398dc7b-896e-4c62-9dd3-0d73d176fdf5"
    }
   },
   "source": [
    "Indexing into a vector\n",
    "\n",
    "* indexing in Python starts at $0$\n",
    "* ranges can be obtained using $:$\n",
    "\n",
    "``` python\n",
    "    v = np.array([1,2,3,4,5,6])\n",
    "    v[3] = 4\n",
    "    v[1:5] = np.array([2,3,4,5])\n",
    "    v[:3] = np.array([1,2,3])\n",
    "    v[-1] = 6\n",
    "```\n",
    "\n",
    "\n",
    "* matrices are indexed as\n",
    "``` python\n",
    "    mat[2,3]\n",
    "    mat[:3,2:4]\n",
    "```"
   ]
  },
  {
   "cell_type": "markdown",
   "metadata": {
    "nbpresent": {
     "id": "c236fddc-39ba-46ce-b4a4-e92587618651"
    }
   },
   "source": [
    "* fancy indexing also works\n",
    "``` python\n",
    "    v = np.array([2,3,4,5])\n",
    "    w = np.array([11,12,13,14])\n",
    "    w[v>3] = np.array([13,14])\n",
    "```"
   ]
  },
  {
   "cell_type": "markdown",
   "metadata": {
    "nbpresent": {
     "id": "9a4fbea8-b430-4141-b31b-81af08fa03c2"
    }
   },
   "source": [
    "Some special arrays can be generated using built-in numpy functions\n",
    "\n",
    "* array containing all zeros or ones\n",
    "```python\n",
    "    mat = np.ones( (100, 10) )\n",
    "    vec = np.zeros(100)\n",
    "    complex_mat = np.zeros( (20, 20), dtype=complex )\n",
    "```"
   ]
  },
  {
   "cell_type": "markdown",
   "metadata": {
    "nbpresent": {
     "id": "221203fc-ec46-44ec-9be3-6e7a8842ca3b"
    }
   },
   "source": [
    "### Plotting\n",
    "\n",
    "The **matplotlib.pyplot** package contains several functions for basic plotting tasks. Its syntax is very similar to that of Matlab.\n",
    "\n",
    "\n",
    "``` python\n",
    "    import matplotlib.pyplot as plt\n",
    "    \n",
    "    plt.figure(1)\n",
    "    plt.plot(time, signal, label=\"my signal\")\n",
    "    plt.legend(loc=\"upper left\")\n",
    "    plt.xlabel(\"x axis\")\n",
    "    plt.ylabel(\"y axis\")\n",
    "    \n",
    "    plt.figure(2)\n",
    "    plt.hist(signal, bins=100)\n",
    "    plt.title(\"histogram of values in signal\")\n",
    "```"
   ]
  },
  {
   "cell_type": "markdown",
   "metadata": {
    "nbpresent": {
     "id": "1c803e41-af35-4cea-a4b8-2882ab7793d9"
    }
   },
   "source": [
    "### EXAMPLE GUM-S1 4.1.1\n",
    "\n",
    "Modelling power $P$ (the measurand) dissipated by a resistor at the temperatur $t$ dependent on potential difference $V$, resistance $R_0$, linear temperature coefficient of resistance $\\alpha$ and defined temperature $t_0$:\n",
    "\n",
    "$$ P = \\frac{V^2}{R_0[1+\\alpha(t-t_0)]} $$\n",
    "\n",
    "### Task\n",
    "Plot the value of $P$ for a range of temperatures with some chosen value for the other input quantities."
   ]
  },
  {
   "cell_type": "code",
   "execution_count": 5,
   "metadata": {
    "collapsed": false,
    "nbpresent": {
     "id": "5fbcaf48-9bad-4775-82b7-c060cd900570"
    }
   },
   "outputs": [],
   "source": [
    "t0 = 20.0\n",
    "alpha = 0.9\n",
    "R_0 = 1.3\n",
    "V = 10\n",
    "t = np.arange(21, 30, 0.5) # different temperature values ranging from 21 to 30 in steps of 0.5\n",
    "\n",
    "P = V**2 / (R_0 * (1+alpha*(t-t0)))"
   ]
  },
  {
   "cell_type": "code",
   "execution_count": 6,
   "metadata": {
    "collapsed": false,
    "nbpresent": {
     "id": "df899252-49e9-4f3f-920a-e9be115407d4"
    }
   },
   "outputs": [
    {
     "data": {
      "image/png": "[encoded data removed]",
      "text/plain": [
       "<matplotlib.figure.Figure at 0x106a8f8d0>"
      ]
     },
     "metadata": {},
     "output_type": "display_data"
    }
   ],
   "source": [
    "plt.figure(1)\n",
    "plt.plot(t, P)\n",
    "plt.xlabel(\"temperature / °C\")\n",
    "plt.ylabel(\"power / W\")\n",
    "plt.show()"
   ]
  }
 ],
 "metadata": {
  "anaconda-cloud": {},
  "kernelspec": {
   "display_name": "Python [conda root]",
   "language": "python",
   "name": "conda-root-py"
  },
  "language_info": {
   "codemirror_mode": {
    "name": "ipython",
    "version": 3
   },
   "file_extension": ".py",
   "mimetype": "text/x-python",
   "name": "python",
   "nbconvert_exporter": "python",
   "pygments_lexer": "ipython3",
   "version": "3.5.2"
  },
  "nbpresent": {
   "slides": {
    "00513f6a-6fe7-4789-821e-cca8f3aa665d": {
     "id": "00513f6a-6fe7-4789-821e-cca8f3aa665d",
     "prev": "02310334-4d67-4172-ba9c-3eda630a07b6",
     "regions": {
      "f3714a3f-8b29-4c31-8a45-973311d1d19f": {
       "attrs": {
        "height": 0.8,
        "width": 0.8,
        "x": 0.1,
        "y": 0.1
       },
       "content": {
        "cell": "7361daad-abe3-4e8f-8778-410a744da838",
        "part": "whole"
       },
       "id": "f3714a3f-8b29-4c31-8a45-973311d1d19f"
      }
     }
    },
    "02310334-4d67-4172-ba9c-3eda630a07b6": {
     "id": "02310334-4d67-4172-ba9c-3eda630a07b6",
     "prev": "18eeb5a6-db71-4663-a96e-c8a2cdd38ea1",
     "regions": {
      "5ea822b7-88de-45e8-ac6d-0897df1ae148": {
       "attrs": {
        "height": 0.8,
        "width": 0.8,
        "x": 0.1,
        "y": 0.1
       },
       "content": {
        "cell": "27990c94-c07a-4033-89b4-162bcf87219e",
        "part": "whole"
       },
       "id": "5ea822b7-88de-45e8-ac6d-0897df1ae148"
      }
     }
    },
    "0a7a39c0-a067-4d78-952f-c4ebe46d6af6": {
     "id": "0a7a39c0-a067-4d78-952f-c4ebe46d6af6",
     "prev": "8d2115fb-b905-4415-bfb8-8b6eadcefaff",
     "regions": {
      "486a850b-3863-41f9-9d62-2f7cfa122fcb": {
       "attrs": {
        "height": 0.8,
        "width": 0.8,
        "x": 0.1,
        "y": 0.1
       },
       "content": {
        "cell": "2d0fd087-1959-4e2a-a193-9a0b50a742a7",
        "part": "whole"
       },
       "id": "486a850b-3863-41f9-9d62-2f7cfa122fcb"
      }
     }
    },
    "133e9dc9-11a0-4623-ad5d-cbabdf28ec60": {
     "id": "133e9dc9-11a0-4623-ad5d-cbabdf28ec60",
     "prev": "8f5e29ec-104a-413d-9f89-edcb2556190d",
     "regions": {
      "77974776-2c32-4a0d-a9a4-65e104e98816": {
       "attrs": {
        "height": 0.8,
        "width": 0.8,
        "x": 0.1,
        "y": 0.1
       },
       "content": {
        "cell": "d398dc7b-896e-4c62-9dd3-0d73d176fdf5",
        "part": "whole"
       },
       "id": "77974776-2c32-4a0d-a9a4-65e104e98816"
      }
     }
    },
    "16c69699-f8df-4948-8009-dca51c396e16": {
     "id": "16c69699-f8df-4948-8009-dca51c396e16",
     "prev": "00513f6a-6fe7-4789-821e-cca8f3aa665d",
     "regions": {
      "bc4f89b0-6ef7-460d-8f45-0edda17a1a87": {
       "attrs": {
        "height": 0.8,
        "width": 0.8,
        "x": 0.1,
        "y": 0.1
       },
       "content": {
        "cell": "123200b3-9bb1-4d52-bf74-770fd794a4f4",
        "part": "whole"
       },
       "id": "bc4f89b0-6ef7-460d-8f45-0edda17a1a87"
      }
     }
    },
    "18eeb5a6-db71-4663-a96e-c8a2cdd38ea1": {
     "id": "18eeb5a6-db71-4663-a96e-c8a2cdd38ea1",
     "prev": "e3bcab46-7138-48bc-af60-e21d5dee7143",
     "regions": {
      "d57e8e4e-6f43-408c-8cf4-cae122320226": {
       "attrs": {
        "height": 0.8,
        "width": 0.8,
        "x": 0.1,
        "y": 0.1
       },
       "content": {
        "cell": "a130f5d6-d991-4cc1-9b0d-8a186ba9b2e1",
        "part": "whole"
       },
       "id": "d57e8e4e-6f43-408c-8cf4-cae122320226"
      }
     }
    },
    "1953f95f-3581-4c9a-ba95-f85f93836df4": {
     "id": "1953f95f-3581-4c9a-ba95-f85f93836df4",
     "prev": "9e98d334-bd1f-4f62-a550-ab62142821a6",
     "regions": {
      "38aa560f-0bd9-4f4e-8aa3-9e781f5c0e72": {
       "attrs": {
        "height": 0.8,
        "width": 0.8,
        "x": 0.1,
        "y": 0.1
       },
       "content": {
        "cell": "221203fc-ec46-44ec-9be3-6e7a8842ca3b",
        "part": "whole"
       },
       "id": "38aa560f-0bd9-4f4e-8aa3-9e781f5c0e72"
      }
     }
    },
    "3409c334-5ea2-4adb-aa9a-e4a513d57137": {
     "id": "3409c334-5ea2-4adb-aa9a-e4a513d57137",
     "prev": "133e9dc9-11a0-4623-ad5d-cbabdf28ec60",
     "regions": {
      "8144ba44-bf18-4860-b198-57df8737da67": {
       "attrs": {
        "height": 0.8,
        "width": 0.8,
        "x": 0.1,
        "y": 0.1
       },
       "content": {
        "cell": "c236fddc-39ba-46ce-b4a4-e92587618651",
        "part": "whole"
       },
       "id": "8144ba44-bf18-4860-b198-57df8737da67"
      }
     }
    },
    "45739add-c51a-47d6-ae45-0e17d0177925": {
     "id": "45739add-c51a-47d6-ae45-0e17d0177925",
     "prev": "f660edbe-8166-41e6-a5f8-2ae23b3825de",
     "regions": {
      "f0779a5b-2e87-4d86-8f73-1ea9991c14fb": {
       "attrs": {
        "height": 0.8,
        "width": 0.8,
        "x": 0.1,
        "y": 0.1
       },
       "content": {
        "cell": "5fbcaf48-9bad-4775-82b7-c060cd900570",
        "part": "whole"
       },
       "id": "f0779a5b-2e87-4d86-8f73-1ea9991c14fb"
      }
     }
    },
    "6291b5ef-3c5b-4117-a0e6-71fdf7194485": {
     "id": "6291b5ef-3c5b-4117-a0e6-71fdf7194485",
     "prev": "ff194a23-9c5d-41da-9bc8-5b4f05869e8a",
     "regions": {
      "f839d541-ed18-427d-9653-6a91ee2acfc9": {
       "attrs": {
        "height": 0.8,
        "width": 0.8,
        "x": 0.1,
        "y": 0.1
       },
       "content": {
        "cell": "ec82abeb-2a05-43e4-aaa0-adc9ed317658",
        "part": "whole"
       },
       "id": "f839d541-ed18-427d-9653-6a91ee2acfc9"
      }
     }
    },
    "8d2115fb-b905-4415-bfb8-8b6eadcefaff": {
     "id": "8d2115fb-b905-4415-bfb8-8b6eadcefaff",
     "prev": "45739add-c51a-47d6-ae45-0e17d0177925",
     "regions": {
      "292beb22-58f0-4589-8439-893dc5b65ea3": {
       "attrs": {
        "height": 0.8,
        "width": 0.8,
        "x": 0.1,
        "y": 0.1
       },
       "content": {
        "cell": "df899252-49e9-4f3f-920a-e9be115407d4",
        "part": "whole"
       },
       "id": "292beb22-58f0-4589-8439-893dc5b65ea3"
      }
     }
    },
    "8f5e29ec-104a-413d-9f89-edcb2556190d": {
     "id": "8f5e29ec-104a-413d-9f89-edcb2556190d",
     "prev": "ddad0a0b-ef28-4f0e-a43c-44da21511fed",
     "regions": {
      "9f5f236c-5e82-4a16-b28e-0afa227e6b42": {
       "attrs": {
        "height": 0.8,
        "width": 0.8,
        "x": 0.1,
        "y": 0.1
       },
       "content": {
        "cell": "8feea847-0f74-409f-a83f-fa1fddc5e027",
        "part": "whole"
       },
       "id": "9f5f236c-5e82-4a16-b28e-0afa227e6b42"
      }
     }
    },
    "9e98d334-bd1f-4f62-a550-ab62142821a6": {
     "id": "9e98d334-bd1f-4f62-a550-ab62142821a6",
     "prev": "3409c334-5ea2-4adb-aa9a-e4a513d57137",
     "regions": {
      "265ca70d-e984-4f73-a0f6-a4d122bc6ff9": {
       "attrs": {
        "height": 0.8,
        "width": 0.8,
        "x": 0.1,
        "y": 0.1
       },
       "content": {
        "cell": "9a4fbea8-b430-4141-b31b-81af08fa03c2",
        "part": "whole"
       },
       "id": "265ca70d-e984-4f73-a0f6-a4d122bc6ff9"
      }
     }
    },
    "d97499f4-ada8-4060-b060-7f391c2f4654": {
     "id": "d97499f4-ada8-4060-b060-7f391c2f4654",
     "prev": null,
     "regions": {
      "b814296e-cff7-42d9-a60c-cd256050461d": {
       "attrs": {
        "height": 0.8,
        "width": 0.8,
        "x": 0.1,
        "y": 0.1
       },
       "content": {
        "cell": "0efe5fa0-71df-4f32-9001-97c51efe3772",
        "part": "whole"
       },
       "id": "b814296e-cff7-42d9-a60c-cd256050461d"
      }
     }
    },
    "ddad0a0b-ef28-4f0e-a43c-44da21511fed": {
     "id": "ddad0a0b-ef28-4f0e-a43c-44da21511fed",
     "prev": "16c69699-f8df-4948-8009-dca51c396e16",
     "regions": {
      "c2cd0933-6942-4d07-a066-a76417ef2788": {
       "attrs": {
        "height": 0.8,
        "width": 0.8,
        "x": 0.1,
        "y": 0.1
       },
       "content": {
        "cell": "33ee6f0f-5525-4564-844c-df4f35e478c7",
        "part": "whole"
       },
       "id": "c2cd0933-6942-4d07-a066-a76417ef2788"
      }
     }
    },
    "e3bcab46-7138-48bc-af60-e21d5dee7143": {
     "id": "e3bcab46-7138-48bc-af60-e21d5dee7143",
     "prev": "6291b5ef-3c5b-4117-a0e6-71fdf7194485",
     "regions": {
      "4c6be6cd-a046-4428-a40d-339e8a4c41f9": {
       "attrs": {
        "height": 0.8,
        "width": 0.8,
        "x": 0.1,
        "y": 0.1
       },
       "content": {
        "cell": "f5392fe1-27ce-48f0-8538-027365113df6",
        "part": "whole"
       },
       "id": "4c6be6cd-a046-4428-a40d-339e8a4c41f9"
      }
     }
    },
    "f660edbe-8166-41e6-a5f8-2ae23b3825de": {
     "id": "f660edbe-8166-41e6-a5f8-2ae23b3825de",
     "prev": "1953f95f-3581-4c9a-ba95-f85f93836df4",
     "regions": {
      "19d93a48-400c-4e29-8d3a-bcb5f8b43086": {
       "attrs": {
        "height": 0.8,
        "width": 0.8,
        "x": 0.1,
        "y": 0.1
       },
       "content": {
        "cell": "1c803e41-af35-4cea-a4b8-2882ab7793d9",
        "part": "whole"
       },
       "id": "19d93a48-400c-4e29-8d3a-bcb5f8b43086"
      }
     }
    },
    "ff194a23-9c5d-41da-9bc8-5b4f05869e8a": {
     "id": "ff194a23-9c5d-41da-9bc8-5b4f05869e8a",
     "prev": "d97499f4-ada8-4060-b060-7f391c2f4654",
     "regions": {
      "dee661d7-3567-4efb-9ac5-0f199afb9247": {
       "attrs": {
        "height": 0.8,
        "width": 0.8,
        "x": 0.1,
        "y": 0.1
       },
       "content": {
        "cell": "576823eb-1b49-4820-8add-858bfdd6df24",
        "part": "whole"
       },
       "id": "dee661d7-3567-4efb-9ac5-0f199afb9247"
      }
     }
    }
   },
   "themes": {
    "default": "b93b407a-b4b3-4949-94b5-5288374ac67c",
    "theme": {
     "19cd0276-577d-43a7-b10b-ea5a42179dc8": {
      "backgrounds": {
       "backgroundColor": {
        "background-color": "backgroundColor",
        "id": "backgroundColor"
       }
      },
      "id": "19cd0276-577d-43a7-b10b-ea5a42179dc8",
      "palette": {
       "backgroundColor": {
        "id": "backgroundColor",
        "rgb": [
         256,
         256,
         256
        ]
       },
       "headingColor": {
        "id": "headingColor",
        "rgb": [
         0,
         0,
         0
        ]
       },
       "linkColor": {
        "id": "linkColor",
        "rgb": [
         0,
         0,
         139
        ]
       },
       "mainColor": {
        "id": "mainColor",
        "rgb": [
         0,
         0,
         0
        ]
       }
      },
      "rules": {
       "a": {
        "color": "linkColor"
       },
       "h1": {
        "color": "headingColor",
        "font-family": "News Cycle",
        "font-size": 7
       },
       "h2": {
        "color": "headingColor",
        "font-family": "News Cycle",
        "font-size": 5
       },
       "h3": {
        "color": "headingColor",
        "font-family": "News Cycle",
        "font-size": 3.75
       },
       "h4": {
        "color": "headingColor",
        "font-family": "News Cycle",
        "font-size": 3
       },
       "h5": {
        "color": "headingColor",
        "font-family": "News Cycle"
       },
       "h6": {
        "color": "headingColor",
        "font-family": "News Cycle"
       },
       "h7": {
        "color": "headingColor",
        "font-family": "News Cycle"
       },
       "li": {
        "color": "mainColor",
        "font-family": "Lato",
        "font-size": 5
       },
       "p": {
        "color": "mainColor",
        "font-family": "Lato",
        "font-size": 5
       }
      },
      "text-base": {
       "color": "mainColor",
       "font-family": "Lato",
       "font-size": 5
      }
     },
     "b93b407a-b4b3-4949-94b5-5288374ac67c": {
      "backgrounds": {
       "backgroundColor": {
        "background-color": "backgroundColor",
        "id": "backgroundColor"
       }
      },
      "id": "b93b407a-b4b3-4949-94b5-5288374ac67c",
      "palette": {
       "backgroundColor": {
        "id": "backgroundColor",
        "rgb": [
         253,
         246,
         227
        ]
       },
       "headingColor": {
        "id": "headingColor",
        "rgb": [
         88,
         110,
         117
        ]
       },
       "linkColor": {
        "id": "linkColor",
        "rgb": [
         38,
         139,
         210
        ]
       },
       "mainColor": {
        "id": "mainColor",
        "rgb": [
         101,
         123,
         131
        ]
       }
      },
      "rules": {
       "a": {
        "color": "linkColor"
       },
       "h1": {
        "color": "headingColor",
        "font-family": "Oswald",
        "font-size": 7
       },
       "h2": {
        "color": "headingColor",
        "font-family": "Oswald",
        "font-size": 5
       },
       "h3": {
        "color": "headingColor",
        "font-family": "Oswald",
        "font-size": 3.75
       },
       "h4": {
        "color": "headingColor",
        "font-family": "Oswald",
        "font-size": 3
       },
       "h5": {
        "color": "headingColor",
        "font-family": "Oswald"
       },
       "h6": {
        "color": "headingColor",
        "font-family": "Oswald"
       },
       "h7": {
        "color": "headingColor",
        "font-family": "Oswald"
       },
       "li": {
        "color": "mainColor",
        "font-family": "Lato",
        "font-size": 5
       },
       "p": {
        "color": "mainColor",
        "font-family": "Lato",
        "font-size": 5
       }
      },
      "text-base": {
       "color": "mainColor",
       "font-family": "Lato",
       "font-size": 5
      }
     }
    }
   }
  }
 },
 "nbformat": 4,
 "nbformat_minor": 1
}
