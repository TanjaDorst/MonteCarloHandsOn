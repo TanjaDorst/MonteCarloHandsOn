{
 "cells": [
  {
   "cell_type": "markdown",
   "metadata": {
    "slideshow": {
     "slide_type": "slide"
    }
   },
   "source": [
    "# Understanding uncertainty statements\n",
    "\n",
    "Often uncertainty about a quantity is not expressed in tabular form, but in some abstract way familiar to the author of the uncertainty budget and statements. This can make a translation of the available information into a usable format challenging.\n",
    "\n",
    "Therefore, the GUM (JCGM 100:2008) lists several examples which we here state as a means of reference."
   ]
  },
  {
   "cell_type": "markdown",
   "metadata": {
    "slideshow": {
     "slide_type": "slide"
    }
   },
   "source": [
    "#### Usage of non-SI units\n",
    "\n",
    "A high-quality Zener voltage standard is calibrated by comparison with a Josephson effect voltage reference based on the conventional value of the Josephson constant recommended for international use by the CIPM. The relative combined standard uncertainty $uc(VS)/VS$ of the calibrated potential difference $VS$ of the Zener standard is $2 \\times 10^{-8}$ when $VS$ is reported in terms of the conventional value, but $uc(VS)/VS$ is $4 \\times 10^{−7}$ when $VS$ is reported in terms of the SI unit of potential difference, the volt (V), because of the additional uncertainty associated with the SI value of the Josephson constant.\n",
    "\n",
    "**$\\Longrightarrow$ Be careful about the units stated in the uncertainty budget.**\n",
    "\n"
   ]
  },
  {
   "cell_type": "markdown",
   "metadata": {
    "slideshow": {
     "slide_type": "slide"
    }
   },
   "source": [
    "\n",
    "\n",
    "#### Uncertainty stated as multiples of the std\n",
    "\n",
    "A calibration certificate states that the mass of a stainless steel mass standard mS of nominal value one kilogram is 1 000,000 325 g and that “the uncertainty of this value is 240 μg at the three standard deviation level”. The standard uncertainty of the mass standard is then simply $$u(mS) = (240 μg)/3 = 80 μg$$\n",
    "\n",
    "**$\\Longrightarrow$ Look out for keywords, such as *level*.**"
   ]
  },
  {
   "cell_type": "markdown",
   "metadata": {
    "slideshow": {
     "slide_type": "slide"
    }
   },
   "source": [
    "\n",
    "\n",
    "#### Uncertainty states as level of confidence\n",
    "\n",
    "A calibration certificate states that the resistance of a standard resistor RS of nominal value ten ohms is $10,000 742 \\Omega \\pm 129 μ\\Omega$ at $23^\\circ$C and that “the quoted uncertainty of 129 μΩ defines an interval having a level of confidence of 99 %”. \n",
    "\n",
    "Assuming a normal distribution as the underlying probability distribution, the standard uncertainty of the resistor may then be taken as $$u(RS) = (129 μ\\Omega)/2,58 = 50 μ\\Omega$$\n",
    "\n",
    "**$\\Longrightarrow$ Translate confidence/coverage interval statements using the quantile of the PDF.**"
   ]
  },
  {
   "cell_type": "markdown",
   "metadata": {
    "slideshow": {
     "slide_type": "slide"
    }
   },
   "source": [
    "\n",
    "\n",
    "#### Uncertainty statement with probability\n",
    "\n",
    "A machinist determining the dimensions of a part estimates that its length lies, with probability $0,5$, in the interval $10,07$ mm to $10,15$ mm, and reports that $l = (10,11 \\pm 0,04)$ mm, meaning that $\\pm 0,04$ mm defines an interval having a level of confidence of $50$ %. Then $a = 0,04$ mm, and if one assumes a normal distribution for the possible values of $l$, the standard uncertainty of the length is $$u(l) = 1,48 \\times 0,04 mm \\approx 0,06 mm$$\n",
    "\n",
    "**$\\Longrightarrow$ Translate probability into confidence/coverage.**"
   ]
  },
  {
   "cell_type": "markdown",
   "metadata": {
    "slideshow": {
     "slide_type": "slide"
    }
   },
   "source": [
    "\n",
    "\n",
    "#### Uncertainty given as bounds\n",
    "\n",
    "A handboook gives the value of the coefficient of linear thermal expansion of pure copper at $20^\\circ$C, $\\alpha_{20}(Cu)$ as $16,52\\times 10^{-6}\\,^\\circ C^{-1}$ and simply states that \"the error in this value should not exceed $0,40 \\times 10^{-6}\\,^\\circ C^{-1}$\". Based on this limited information, it is not unreasonable to assume that the value of $\\alpha_{20}(Cu)$ lies with equal probability in the interval $[16,12, 16,92] \\times 10^{-6}\\,^\\circ C^{-1}$, and that it is very unlikely that $\\alpha_{20}(Cu)$ lies outside this interval. The **variance** of this symmetric rectangular distribution of possible values of $\\alpha_{20}(Cu)$ of half-width $\\alpha = 0,40 \\times 10^{-6}\\,^\\circ C^{-1}$ is then given as $$ u^2(\\alpha_{20}) = \\frac{1}{3} (0,40 \\times 10^{-6}\\,^\\circ C^{-1})^2 = 53,3 \\times 10^{-15}\\,^\\circ C^{-2}$$\n",
    "\n",
    "**$\\Longrightarrow$ Translate vague information into the most likely probability statement.**"
   ]
  }
 ],
 "metadata": {
  "celltoolbar": "Slideshow",
  "kernelspec": {
   "display_name": "Python [conda root]",
   "language": "python",
   "name": "conda-root-py"
  },
  "language_info": {
   "codemirror_mode": {
    "name": "ipython",
    "version": 3
   },
   "file_extension": ".py",
   "mimetype": "text/x-python",
   "name": "python",
   "nbconvert_exporter": "python",
   "pygments_lexer": "ipython3",
   "version": "3.5.2"
  }
 },
 "nbformat": 4,
 "nbformat_minor": 1
}
