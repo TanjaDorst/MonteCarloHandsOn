{
 "cells": [
  {
   "cell_type": "markdown",
   "metadata": {
    "nbpresent": {
     "id": "50ce479c-329b-44a9-ad31-785e55fc0146"
    }
   },
   "source": [
    "# More Examples"
   ]
  },
  {
   "cell_type": "markdown",
   "metadata": {
    "nbpresent": {
     "id": "d231aac6-1416-4573-a45a-53e8f2e42570"
    }
   },
   "source": [
    "## Additive model\n",
    "\n",
    "Example taken from JCGM 101:2008, Clause 9.2.\n",
    "\n",
    "This example considers the additive model\n",
    "\n",
    "$$ Y = X_1 + X_2 + X_3 + X_4 $$\n",
    "\n",
    "for three different sets of PDFs $g_{x_i}(\\xi_i)$ assigned to the input quantities $X_i$, regarded as independent. \n",
    "\n",
    "#### Taks 1\n",
    "Assume that a Gaussian PDF is assigned to each $X_i$. The best estimates are $x_i=0$ with associated standard uncertainties $u(x_i)=1$. Report the Monte Carlo results for estimate, uncertainty and 95% coverage interval of $Y$ with three significant digits. Compare the Monte Carlo result to that of a standard GUM approach using the *law of propagation of uncertainty*."
   ]
  },
  {
   "cell_type": "markdown",
   "metadata": {
    "nbpresent": {
     "id": "50e90037-59b4-40f2-8a73-7dfdcceb74a2"
    }
   },
   "source": [
    "#### Task 2\n",
    "Assign a rectangular PDF to each $X_i$ so that $X_i$ has an expectation of zero and a standard deviation of unity. Report the results of $Y$ with three significant digits and compare to that obtained with the standard GUM approach."
   ]
  },
  {
   "cell_type": "markdown",
   "metadata": {
    "nbpresent": {
     "id": "1be80095-2352-4dc5-8718-55cfec4c9774"
    }
   },
   "source": [
    "#### Taks 3\n",
    "Same as Taks 2, but with $X_4$ having standard uncertainty of 10 rathern than unity."
   ]
  },
  {
   "cell_type": "markdown",
   "metadata": {
    "nbpresent": {
     "id": "59b6573d-6e53-408d-8670-9f82ab34462d"
    }
   },
   "source": [
    "## Mass calibration\n",
    "\n",
    "Example taken from JCGM 101:2008, Clause 9.3\n",
    "\n",
    "Consider the calibration of a weight $W$ of mass density $\\rho_W$ against a reference weight $R$ of mass density $\\rho_R$ having nominally the same mass, using a balance operating in air of mass density $\\rho_a$. Since $\\rho_W$ and $\\rho_R$ are generally diffeent, it is necessary to account for buoyancy effects. Applying Archimedes' principle, the model takes the form $ m_W\\left( 1 - \\frac{\\rho_a}{\\rho_W} \\right) = (m_R + \\delta m_R)\\left( 1-\\frac{\\rho_a}{\\rho_R} \\right) $, where $\\delta m_R$ is the mass of a small weight of density $\\rho_R$ added to $R$ to balance it with $W$. Working with so called \"conventional masses\", the model in this example ist\n",
    "\n",
    "$$ \\delta m = (m_{R,c} + \\delta m_{R,c})\\left[ 1 + (\\rho_a-\\rho_{a_0})\\left( \\frac{1}{\\rho_W}-\\frac{1}{\\rho_R} \\right) \\right] $$"
   ]
  },
  {
   "cell_type": "markdown",
   "metadata": {
    "nbpresent": {
     "id": "39611d5d-5120-4f23-81c6-59123cb75e32"
    }
   },
   "source": [
    "Knowledge about the input quantities is given as\n",
    "\n",
    "![Table](C93_Table.pdf)\n",
    "\n",
    "Carry out the uncertainty evaluation using the Monte Carlo method to obtain an estimate, uncertainty and 99% coverage interval."
   ]
  },
  {
   "cell_type": "markdown",
   "metadata": {
    "nbpresent": {
     "id": "32e42518-6948-4302-b7cc-30468062f242"
    }
   },
   "source": [
    "## Comparison loss\n",
    "\n",
    "Comparison loss in microwave power meter calibration example taken from JCGM 101:2008, Clause 9.4."
   ]
  },
  {
   "cell_type": "markdown",
   "metadata": {
    "nbpresent": {
     "id": "fecbbb56-5cb1-4b59-9575-cffa2c56ff15"
    }
   },
   "source": [
    "During the calibration of a microwave power meter, the power meter and a standard power meter are connected in turn to a stable signal generator. The power absorbed by each meter will in general be different because their complex input voltage reflection coefficients are not identical. The ration $Y$ of the power $P_M$ absorbed by the meter being calibrated and that, $P_S$, by the standard meter is\n",
    "\n",
    "$$ Y = \\frac{P_M}{P_S} = \\frac{1-\\vert \\Gamma_M\\vert^2}{1-\\vert \\Gamma_S\\vert^2} \\times \\frac{\\vert 1-\\Gamma_S\\Gamma_G\\vert^2}{\\vert 1-\\Gamma_M\\Gamma_G\\vert^2} $$\n",
    "\n",
    "where $\\Gamma_G$ is the voltage reflection coefficient of the signal generator, $\\Gamma_M$ that of the meter being calibrated and $\\Gamma_S$ the of the standard meter. This power ratio is an instance of \"comparison loss\"."
   ]
  },
  {
   "cell_type": "markdown",
   "metadata": {
    "nbpresent": {
     "id": "b8a16949-dc85-43b0-9a29-3536ad5798c8"
    }
   },
   "source": [
    "#### Task\n",
    "\n",
    "Considering the case that $\\Gamma_S=\\Gamma_G=0$, and measured values are obtained of the real and imaginary parts $X_1, X_2$ of $\\Gamma_M$, the model used in this examples is $ Y = 1 - X_1^2 - X_2^2 $, better expressed as\n",
    "\n",
    "$$ \\delta Y = 1 - Y = X_1^2 + X_2^2 $$\n",
    "\n",
    "$X_1$ and $X_2$ are usually not independent, but it may be difficult to gather information about the actual correlation coefficient. In such cases, the uncertainty evaluation can be repeated with different trial values for the correlation coefficient.\n",
    "\n",
    "Here we use $\\rho=0$ and $\\rho=0.9$. The estimate of $X_1$ is taken as $x_1 = 0.01$ with standard uncertainty $u(x_1) = 0.005$. The estimate of $X_2$ is taken as zero with an associated standard uncertainty of $u(x_2) = 0.005$. \n",
    "\n",
    "Carry out an uncertainty evaluation for $\\delta Y$, calculating estimate and uncertainty using the *law of propagation of uncertainty* and the Monte Method for both correlation coefficients."
   ]
  }
 ],
 "metadata": {
  "anaconda-cloud": {},
  "kernelspec": {
   "display_name": "Python [conda root]",
   "language": "python",
   "name": "conda-root-py"
  },
  "language_info": {
   "codemirror_mode": {
    "name": "ipython",
    "version": 3
   },
   "file_extension": ".py",
   "mimetype": "text/x-python",
   "name": "python",
   "nbconvert_exporter": "python",
   "pygments_lexer": "ipython3",
   "version": "3.5.2"
  },
  "nbpresent": {
   "slides": {
    "6298daf0-1b2c-421a-84b2-6b7728b61b4e": {
     "id": "6298daf0-1b2c-421a-84b2-6b7728b61b4e",
     "prev": "f87b9e95-e0ba-4343-b2b3-294a9792faf9",
     "regions": {
      "3590184f-8b16-4c12-9923-bab01379a01b": {
       "attrs": {
        "height": 0.7117117117117117,
        "width": 0.9465601965601965,
        "x": 0.03132678132678133,
        "y": 0.27627627627627627
       },
       "content": {
        "cell": "fecbbb56-5cb1-4b59-9575-cffa2c56ff15",
        "part": "source"
       },
       "id": "3590184f-8b16-4c12-9923-bab01379a01b"
      },
      "68e6c03d-4e98-4940-8961-8d96ae2b951d": {
       "attrs": {
        "height": 0.24526344526344535,
        "width": 0.9437346437346438,
        "x": 0.03181818181818182,
        "y": 0.009363909363909366
       },
       "content": {
        "cell": "32e42518-6948-4302-b7cc-30468062f242",
        "part": "source"
       },
       "id": "68e6c03d-4e98-4940-8961-8d96ae2b951d"
      }
     }
    },
    "7cd6aabe-6d66-46e2-ad76-21312d48c06e": {
     "id": "7cd6aabe-6d66-46e2-ad76-21312d48c06e",
     "prev": "f804dd5b-7c18-414b-9197-0c5bd89b7769",
     "regions": {
      "68283515-7e82-41a7-b045-7f76f80728ed": {
       "attrs": {
        "height": 0.6,
        "width": 0.8,
        "x": 0.1,
        "y": 0.1
       },
       "content": {
        "cell": "d231aac6-1416-4573-a45a-53e8f2e42570",
        "part": "source"
       },
       "id": "68283515-7e82-41a7-b045-7f76f80728ed"
      },
      "7df27b7b-ef3e-4d6c-9ccb-05ec670d0a19": {
       "attrs": {
        "height": 0.2,
        "width": 0.4,
        "x": 0.5,
        "y": 0.7
       },
       "id": "7df27b7b-ef3e-4d6c-9ccb-05ec670d0a19"
      },
      "fb16ff56-7ffd-416e-aacf-9a02297ff47b": {
       "attrs": {
        "height": 0.2,
        "width": 0.4,
        "x": 0.1,
        "y": 0.7
       },
       "id": "fb16ff56-7ffd-416e-aacf-9a02297ff47b"
      }
     }
    },
    "9dd57d55-0bd3-4372-ab36-5dc1b05a76dd": {
     "id": "9dd57d55-0bd3-4372-ab36-5dc1b05a76dd",
     "prev": "7cd6aabe-6d66-46e2-ad76-21312d48c06e",
     "regions": {
      "c009b550-c399-4d9a-b1eb-a008c8596a4c": {
       "attrs": {
        "height": 0.324979524979525,
        "width": 0.859090909090909,
        "x": 0.10442260442260443,
        "y": 0.5488124488124487
       },
       "content": {
        "cell": "1be80095-2352-4dc5-8718-55cfec4c9774",
        "part": "source"
       },
       "id": "c009b550-c399-4d9a-b1eb-a008c8596a4c"
      },
      "c34539cd-39c5-4f34-ab79-402edbc5d04d": {
       "attrs": {
        "height": 0.4156156156156157,
        "width": 0.7214987714987714,
        "x": 0.09791154791154796,
        "y": 0.11638001638001637
       },
       "content": {
        "cell": "50e90037-59b4-40f2-8a73-7dfdcceb74a2",
        "part": "source"
       },
       "id": "c34539cd-39c5-4f34-ab79-402edbc5d04d"
      }
     }
    },
    "9e199894-57f0-495a-867a-a2eb9cfc0fb2": {
     "id": "9e199894-57f0-495a-867a-a2eb9cfc0fb2",
     "prev": "6298daf0-1b2c-421a-84b2-6b7728b61b4e",
     "regions": {
      "57e693af-2b3e-4931-9772-a29143face68": {
       "attrs": {
        "height": 0.6,
        "width": 0.8,
        "x": 0.1,
        "y": 0.1
       },
       "content": {
        "cell": "b8a16949-dc85-43b0-9a29-3536ad5798c8",
        "part": "source"
       },
       "id": "57e693af-2b3e-4931-9772-a29143face68"
      },
      "5d294810-2d5e-4e6d-a63e-5ef944f7ace3": {
       "attrs": {
        "height": 0.2,
        "width": 0.4,
        "x": 0.5,
        "y": 0.7
       },
       "id": "5d294810-2d5e-4e6d-a63e-5ef944f7ace3"
      },
      "6ab4a5ad-5e39-42d7-ac08-411dee212d95": {
       "attrs": {
        "height": 0.2,
        "width": 0.4,
        "x": 0.1,
        "y": 0.7
       },
       "id": "6ab4a5ad-5e39-42d7-ac08-411dee212d95"
      }
     }
    },
    "ed3a2c1e-9b4e-4c88-b28c-5846e93d8026": {
     "id": "ed3a2c1e-9b4e-4c88-b28c-5846e93d8026",
     "prev": "9dd57d55-0bd3-4372-ab36-5dc1b05a76dd",
     "regions": {
      "f7a1bde5-c798-4571-998b-a10babba2ba9": {
       "attrs": {
        "height": 0.5945399945399945,
        "width": 0.8061425061425062,
        "x": 0.08587223587223584,
        "y": 0.049767949767949696
       },
       "content": {
        "cell": "59b6573d-6e53-408d-8670-9f82ab34462d",
        "part": "source"
       },
       "id": "f7a1bde5-c798-4571-998b-a10babba2ba9"
      }
     }
    },
    "f804dd5b-7c18-414b-9197-0c5bd89b7769": {
     "id": "f804dd5b-7c18-414b-9197-0c5bd89b7769",
     "prev": null,
     "regions": {
      "26043dec-7b06-4098-a0ff-fe7403482e73": {
       "attrs": {
        "height": 0.2,
        "width": 0.4,
        "x": 0.5,
        "y": 0.7
       },
       "id": "26043dec-7b06-4098-a0ff-fe7403482e73"
      },
      "bed8f790-228a-486f-a55f-09f475dd6977": {
       "attrs": {
        "height": 0.6,
        "width": 0.8,
        "x": 0.1,
        "y": 0.1
       },
       "content": {
        "cell": "50ce479c-329b-44a9-ad31-785e55fc0146",
        "part": "source"
       },
       "id": "bed8f790-228a-486f-a55f-09f475dd6977"
      },
      "c3e6bbe4-da97-4ae1-9bca-d657e7436b2f": {
       "attrs": {
        "height": 0.2,
        "width": 0.4,
        "x": 0.1,
        "y": 0.7
       },
       "id": "c3e6bbe4-da97-4ae1-9bca-d657e7436b2f"
      }
     }
    },
    "f87b9e95-e0ba-4343-b2b3-294a9792faf9": {
     "id": "f87b9e95-e0ba-4343-b2b3-294a9792faf9",
     "prev": "ed3a2c1e-9b4e-4c88-b28c-5846e93d8026",
     "regions": {
      "2b9dfd1b-d13b-4514-a8c4-3d99dd62f45c": {
       "attrs": {
        "height": 0.6,
        "width": 0.8,
        "x": 0.1,
        "y": 0.1
       },
       "content": {
        "cell": "39611d5d-5120-4f23-81c6-59123cb75e32",
        "part": "source"
       },
       "id": "2b9dfd1b-d13b-4514-a8c4-3d99dd62f45c"
      },
      "8d9097ed-cea5-4656-a54b-cb007b186095": {
       "attrs": {
        "height": 0.2,
        "width": 0.4,
        "x": 0.1,
        "y": 0.7
       },
       "id": "8d9097ed-cea5-4656-a54b-cb007b186095"
      },
      "e16988a3-a673-48a4-afbb-005e8b39d500": {
       "attrs": {
        "height": 0.2,
        "width": 0.4,
        "x": 0.5,
        "y": 0.7
       },
       "id": "e16988a3-a673-48a4-afbb-005e8b39d500"
      }
     }
    }
   },
   "themes": {
    "default": "036cfdf7-fb31-496b-a99e-30efd679379d",
    "theme": {
     "036cfdf7-fb31-496b-a99e-30efd679379d": {
      "backgrounds": {
       "backgroundColor": {
        "background-color": "backgroundColor",
        "id": "backgroundColor"
       }
      },
      "id": "036cfdf7-fb31-496b-a99e-30efd679379d",
      "palette": {
       "backgroundColor": {
        "id": "backgroundColor",
        "rgb": [
         253,
         246,
         227
        ]
       },
       "headingColor": {
        "id": "headingColor",
        "rgb": [
         88,
         110,
         117
        ]
       },
       "linkColor": {
        "id": "linkColor",
        "rgb": [
         38,
         139,
         210
        ]
       },
       "mainColor": {
        "id": "mainColor",
        "rgb": [
         101,
         123,
         131
        ]
       }
      },
      "rules": {
       "a": {
        "color": "linkColor"
       },
       "h1": {
        "color": "headingColor",
        "font-family": "Oswald",
        "font-size": 7
       },
       "h2": {
        "color": "headingColor",
        "font-family": "Oswald",
        "font-size": 5
       },
       "h3": {
        "color": "headingColor",
        "font-family": "Oswald",
        "font-size": 3.75
       },
       "h4": {
        "color": "headingColor",
        "font-family": "Oswald",
        "font-size": 3
       },
       "h5": {
        "color": "headingColor",
        "font-family": "Oswald"
       },
       "h6": {
        "color": "headingColor",
        "font-family": "Oswald"
       },
       "h7": {
        "color": "headingColor",
        "font-family": "Oswald"
       },
       "li": {
        "color": "mainColor",
        "font-family": "Lato",
        "font-size": 5
       },
       "p": {
        "color": "mainColor",
        "font-family": "Lato",
        "font-size": 5
       }
      },
      "text-base": {
       "color": "mainColor",
       "font-family": "Lato",
       "font-size": 5
      }
     }
    }
   }
  }
 },
 "nbformat": 4,
 "nbformat_minor": 1
}
