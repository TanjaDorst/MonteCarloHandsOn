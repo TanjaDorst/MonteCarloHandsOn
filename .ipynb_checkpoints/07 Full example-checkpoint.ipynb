{
 "cells": [
  {
   "cell_type": "code",
   "execution_count": 1,
   "metadata": {
    "collapsed": false,
    "nbpresent": {
     "id": "e9e14745-608d-4744-96f8-b4c8691727c9"
    }
   },
   "outputs": [
    {
     "name": "stdout",
     "output_type": "stream",
     "text": [
      "Populating the interactive namespace from numpy and matplotlib\n"
     ]
    }
   ],
   "source": [
    "%pylab inline\n",
    "pylab.rcParams['figure.figsize'] = (16.0, 8.0)"
   ]
  },
  {
   "cell_type": "markdown",
   "metadata": {
    "nbpresent": {
     "id": "8d49a027-212c-4813-9487-fe7d7c46eeaf"
    }
   },
   "source": [
    "# Final exercise: a full Monte Carlo example"
   ]
  },
  {
   "cell_type": "markdown",
   "metadata": {
    "nbpresent": {
     "id": "f4f72fc0-6ff7-4b88-a58c-9b49adbd212e"
    }
   },
   "source": [
    "The length of a gauge block is to be measured by comparison with a reference block of the same nominal length.\n",
    "The measurand is the difference $\\delta L$ between the measured object and the reference block. The mathematical model for the evaluation of the measurand is  \n",
    "$$ \\delta L = L_s + D + d_1 + d_2 - L_s(\\delta\\alpha(\\theta_0 - \\Delta)+\\alpha_s\\delta\\theta) - L_{nom} $$"
   ]
  },
  {
   "cell_type": "markdown",
   "metadata": {
    "nbpresent": {
     "id": "635ce731-1e08-43af-9b12-86d35b6c8830"
    }
   },
   "source": [
    " Quantity | description | distribution \n",
    " :--- |---|:---\n",
    " $L_s$ | length of reference block | t-dist with 18 dof, $\\mu = 50000623$, $s=25$ \n",
    " $D$ | average comparator value | t-dist with 24 dof, $\\mu = 215$, $s=6$ \n",
    " $d_1$ | random errors in comparator measurement | t-dist with 5 dof, $\\mu=0$, $s=4$\n",
    " $d_2$ | systematic errors in comparator measurement | t-dist with 8 dof, $\\mu=0$, $s=7$\n",
    " $\\alpha_s$ | thermal expansion coefficient of reference | uniform on $[-9.5e-6,13.5e-6]$\n",
    " $\\theta_0$ | average temperature of measured object | $N(-0.1, 0.2^2)$\n",
    " $\\Delta$ | cyclic temperature variation | $\\mathcal{U}(-0.5, 0.5)$\n",
    " $\\delta\\theta$ | temperature deviation | curvi-linear $ctrap(a=-0.05, b=0.05, u=0.025)$\n",
    " $\\delta\\alpha$ | thermal expansion coeff. deviation | curvi-linear $ctrap(a=-1e-6,b=1e-6,u=0.1e-6)$\n"
   ]
  },
  {
   "cell_type": "markdown",
   "metadata": {
    "nbpresent": {
     "id": "97d82767-25bc-4581-b6df-a63a1a2c1f21"
    }
   },
   "source": [
    "Carry out the corresponding estimation of the measurand $\\delta L$ and the evaluation of uncertainties using Monte Carlo simulations with adaptive determination of the number of Monte Carlo trials such that a numerical accuracy of $\\delta = 0.5$ is achieved at a 99% level of confidence for the estimate and its associated uncertainty. Also calculate the symmetric interval with 95% coverage probalitity for the measurand."
   ]
  },
  {
   "cell_type": "code",
   "execution_count": 2,
   "metadata": {
    "collapsed": true,
    "nbpresent": {
     "id": "b4d48a72-f7ef-49d7-a22d-edd4917b7df3"
    }
   },
   "outputs": [],
   "source": [
    "import numpy as np\n",
    "\n",
    "class ctrap:\n",
    "    # Model for rectangular distribution with inexactly known endpoints\n",
    "    # left end point is R(a,c) and right end point is R(d,b) distributed\n",
    "    def __init__(self,a,b,ua,ub=None):\n",
    "        if not isinstance(ub,float):\n",
    "            ub = ua\n",
    "        self.a = a-ua\n",
    "        self.b = b+ub\n",
    "        self.c = a+ua\n",
    "        self.d = b-ub\n",
    "    def rvs(self, size=1):\n",
    "        u = np.random.rand(size)\n",
    "        v = np.random.rand(size)\n",
    "        w = np.random.rand(size)\n",
    "        z1 = self.a + (self.c-self.a)*u\n",
    "        z2 = self.d + (self.b-self.d)*v\n",
    "        return z1 + (z2-z1)*w"
   ]
  },
  {
   "cell_type": "code",
   "execution_count": 3,
   "metadata": {
    "collapsed": true,
    "nbpresent": {
     "id": "3e69d992-9abc-4233-b6d5-95263b19dbf9"
    }
   },
   "outputs": [],
   "source": [
    "import scipy.stats as stats\n",
    "\n"
   ]
  }
 ],
 "metadata": {
  "anaconda-cloud": {},
  "kernelspec": {
   "display_name": "Python [default]",
   "language": "python",
   "name": "python3"
  },
  "language_info": {
   "codemirror_mode": {
    "name": "ipython",
    "version": 3
   },
   "file_extension": ".py",
   "mimetype": "text/x-python",
   "name": "python",
   "nbconvert_exporter": "python",
   "pygments_lexer": "ipython3",
   "version": "3.5.2"
  },
  "nbpresent": {
   "slides": {
    "160ac8fe-7b35-4520-b991-daf1a7952ed1": {
     "id": "160ac8fe-7b35-4520-b991-daf1a7952ed1",
     "prev": "fb930469-e3f1-4ac1-b5bd-3b852574035a",
     "regions": {
      "79da137f-d26b-40a2-a80c-1a36c8f36e95": {
       "attrs": {
        "height": 0.2,
        "width": 0.4,
        "x": 0.5,
        "y": 0.7
       },
       "id": "79da137f-d26b-40a2-a80c-1a36c8f36e95"
      },
      "8b2ee05d-c0ee-4372-b978-b5a804c506e8": {
       "attrs": {
        "height": 0.2,
        "width": 0.4,
        "x": 0.1,
        "y": 0.7
       },
       "id": "8b2ee05d-c0ee-4372-b978-b5a804c506e8"
      },
      "da53acbe-37c9-42ae-9567-bee1e59710d7": {
       "attrs": {
        "height": 0.6,
        "width": 0.8,
        "x": 0.1,
        "y": 0.1
       },
       "content": {
        "cell": "97d82767-25bc-4581-b6df-a63a1a2c1f21",
        "part": "source"
       },
       "id": "da53acbe-37c9-42ae-9567-bee1e59710d7"
      }
     }
    },
    "444a8f81-b80e-44dd-9b06-d7f3989d06b9": {
     "id": "444a8f81-b80e-44dd-9b06-d7f3989d06b9",
     "prev": null,
     "regions": {
      "5b011de0-8c38-4928-b1ea-58466e1b2132": {
       "attrs": {
        "height": 0.552015732546706,
        "width": 0.7971238938053098,
        "x": 0.1,
        "y": 0.34798426745329397
       },
       "content": {
        "cell": "f4f72fc0-6ff7-4b88-a58c-9b49adbd212e",
        "part": "source"
       },
       "id": "5b011de0-8c38-4928-b1ea-58466e1b2132"
      },
      "d2d6cc37-ba4d-41ef-a231-bd384e5fcafb": {
       "attrs": {
        "height": 0.23618485742379547,
        "width": 0.7994469026548673,
        "x": 0.1,
        "y": 0.1
       },
       "content": {
        "cell": "8d49a027-212c-4813-9487-fe7d7c46eeaf",
        "part": "whole"
       },
       "id": "d2d6cc37-ba4d-41ef-a231-bd384e5fcafb"
      }
     },
     "theme": "283b4d66-1980-4c51-a5b6-afc52309b08d"
    },
    "a3fc7171-7404-45b8-9245-3ced934ed0a0": {
     "id": "a3fc7171-7404-45b8-9245-3ced934ed0a0",
     "prev": "c47309f4-38d7-4ee4-b44c-91636e677d22",
     "regions": {
      "42cbd9c7-7a9e-4c4c-93da-b1fb4481f3d3": {
       "attrs": {
        "height": 0.8,
        "width": 0.45,
        "x": 0.05,
        "y": 0.1
       },
       "content": {
        "cell": "3e69d992-9abc-4233-b6d5-95263b19dbf9",
        "part": "source"
       },
       "id": "42cbd9c7-7a9e-4c4c-93da-b1fb4481f3d3"
      },
      "b68b8c83-4765-4a7a-8cd8-666368403028": {
       "attrs": {
        "height": 0.8,
        "width": 0.45,
        "x": 0.5,
        "y": 0.1
       },
       "content": {
        "cell": "ae4a0f99-d47a-4487-b800-4e73593b3806",
        "part": "whole"
       },
       "id": "b68b8c83-4765-4a7a-8cd8-666368403028"
      }
     }
    },
    "c47309f4-38d7-4ee4-b44c-91636e677d22": {
     "id": "c47309f4-38d7-4ee4-b44c-91636e677d22",
     "prev": "160ac8fe-7b35-4520-b991-daf1a7952ed1",
     "regions": {
      "0f8677a4-9823-4706-a2e2-75a42e2ea024": {
       "attrs": {
        "height": 0.2,
        "width": 0.4,
        "x": 0.1,
        "y": 0.7
       },
       "id": "0f8677a4-9823-4706-a2e2-75a42e2ea024"
      },
      "9f18489b-026c-45b1-8956-9e294f5cf3d9": {
       "attrs": {
        "height": 0.2,
        "width": 0.4,
        "x": 0.5,
        "y": 0.7
       },
       "id": "9f18489b-026c-45b1-8956-9e294f5cf3d9"
      },
      "cdc3b6c6-1964-4940-9815-bfc074eada38": {
       "attrs": {
        "height": 0.6,
        "width": 0.8,
        "x": 0.1,
        "y": 0.1
       },
       "content": {
        "cell": "b4d48a72-f7ef-49d7-a22d-edd4917b7df3",
        "part": "source"
       },
       "id": "cdc3b6c6-1964-4940-9815-bfc074eada38"
      }
     }
    },
    "c6a09958-054a-43bd-9a55-d80c952fb1bd": {
     "id": "c6a09958-054a-43bd-9a55-d80c952fb1bd",
     "prev": "eb855830-c698-4bb3-b3fc-ccaf31cfce61",
     "regions": {
      "25493314-7adf-4e54-baea-715992efee7a": {
       "attrs": {
        "height": 0.2,
        "width": 0.4,
        "x": 0.1,
        "y": 0.7
       },
       "id": "25493314-7adf-4e54-baea-715992efee7a"
      },
      "c5481689-a1fe-43df-a17f-390c0684b265": {
       "attrs": {
        "height": 0.6,
        "width": 0.8,
        "x": 0.1,
        "y": 0.1
       },
       "content": {
        "cell": "1b2e8838-19ef-4845-a826-c6c5c09cd3ad",
        "part": "whole"
       },
       "id": "c5481689-a1fe-43df-a17f-390c0684b265"
      },
      "ce16a9fb-0ebb-44e2-b2e4-9626785d6764": {
       "attrs": {
        "height": 0.2,
        "width": 0.4,
        "x": 0.5,
        "y": 0.7
       },
       "id": "ce16a9fb-0ebb-44e2-b2e4-9626785d6764"
      }
     }
    },
    "eb855830-c698-4bb3-b3fc-ccaf31cfce61": {
     "id": "eb855830-c698-4bb3-b3fc-ccaf31cfce61",
     "prev": "a3fc7171-7404-45b8-9245-3ced934ed0a0",
     "regions": {
      "07f692f3-46b3-4921-8b60-3f402860196d": {
       "attrs": {
        "height": 1,
        "width": 1,
        "x": 0,
        "y": 0
       },
       "content": {
        "cell": "d957330c-d118-41c4-8663-7f42ad236cc2",
        "part": "source"
       },
       "id": "07f692f3-46b3-4921-8b60-3f402860196d"
      }
     }
    },
    "fb930469-e3f1-4ac1-b5bd-3b852574035a": {
     "id": "fb930469-e3f1-4ac1-b5bd-3b852574035a",
     "prev": "444a8f81-b80e-44dd-9b06-d7f3989d06b9",
     "regions": {
      "6b3c072d-e4e9-4412-9d44-4189f8fd9451": {
       "attrs": {
        "height": 0.7944936086529006,
        "width": 0.8622787610619469,
        "x": 0.07466814159292036,
        "y": 0.07177974434611603
       },
       "content": {
        "cell": "635ce731-1e08-43af-9b12-86d35b6c8830",
        "part": "source"
       },
       "id": "6b3c072d-e4e9-4412-9d44-4189f8fd9451"
      }
     }
    }
   },
   "themes": {
    "default": "283b4d66-1980-4c51-a5b6-afc52309b08d",
    "theme": {
     "283b4d66-1980-4c51-a5b6-afc52309b08d": {
      "backgrounds": {
       "backgroundColor": {
        "background-color": "backgroundColor",
        "id": "backgroundColor"
       }
      },
      "id": "283b4d66-1980-4c51-a5b6-afc52309b08d",
      "palette": {
       "backgroundColor": {
        "id": "backgroundColor",
        "rgb": [
         253,
         246,
         227
        ]
       },
       "headingColor": {
        "id": "headingColor",
        "rgb": [
         88,
         110,
         117
        ]
       },
       "linkColor": {
        "id": "linkColor",
        "rgb": [
         38,
         139,
         210
        ]
       },
       "mainColor": {
        "id": "mainColor",
        "rgb": [
         101,
         123,
         131
        ]
       }
      },
      "rules": {
       "a": {
        "color": "linkColor"
       },
       "h1": {
        "color": "headingColor",
        "font-family": "Oswald",
        "font-size": 7
       },
       "h2": {
        "color": "headingColor",
        "font-family": "Oswald",
        "font-size": 5
       },
       "h3": {
        "color": "headingColor",
        "font-family": "Oswald",
        "font-size": 3.75
       },
       "h4": {
        "color": "headingColor",
        "font-family": "Oswald",
        "font-size": 3
       },
       "h5": {
        "color": "headingColor",
        "font-family": "Oswald"
       },
       "h6": {
        "color": "headingColor",
        "font-family": "Oswald"
       },
       "h7": {
        "color": "headingColor",
        "font-family": "Oswald"
       },
       "li": {
        "color": "mainColor",
        "font-family": "Lato",
        "font-size": 5
       },
       "p": {
        "color": "mainColor",
        "font-family": "Lato",
        "font-size": 5
       }
      },
      "text-base": {
       "color": "mainColor",
       "font-family": "Lato",
       "font-size": 5
      }
     }
    }
   }
  }
 },
 "nbformat": 4,
 "nbformat_minor": 0
}
