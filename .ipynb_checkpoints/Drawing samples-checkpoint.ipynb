{
 "cells": [
  {
   "cell_type": "markdown",
   "metadata": {},
   "source": [
    "# Drawing samples"
   ]
  },
  {
   "cell_type": "markdown",
   "metadata": {},
   "source": [
    "### Curvilinear trapezoidal distribution\n",
    "\n",
    "To sample from CTrap(a, b, d), make two draws $r_1$ and $r_2$ independently from the standard rectangular distribution $R(0, 1)$ and form \n",
    "$$ a_s = (a − d) + 2dr_1 \\qquad b_s = (a+b)-a_s , $$\n",
    "and\n",
    "$$ \\xi = a_s + (b_s − a_s)r_2 . $$\n",
    "\n",
    "In this way $a_s$ is a draw from the rectangular distribution with limits $a \\pm d$. $b_s$ is then formed to ensure that the midpoint of $a_s$ and $b_s$ is the prescribed value $x = (a + b)/2$.\n",
    "\n",
    "\n",
    "### Task\n",
    "\n",
    "A certiﬁcate states that a voltage X lies in the interval 10.0 V ± 0.1 V. No other information is available concerning X, except that it is believed that the magnitude of the interval endpoints is the result of rounding correctly some numerical value. On this basis, that numerical value lies between 0.05 V and 0.15 V, since the numerical value of every point in the interval (0.05, 0.15) rounded to one signiﬁcant decimal digit is 0.1. The location of the interval can therefore be regarded as ﬁxed, whereas its width is inexact. The best estimate of X is x = 10.0 V. \n",
    "\n",
    "Based on a = 9.9 V, b = 10.1 V and d = 0.05 V, sample from the PDF and calculate the best estimate and the associated uncertainty. \n",
    "\n"
   ]
  },
  {
   "cell_type": "code",
   "execution_count": 1,
   "metadata": {
    "collapsed": false
   },
   "outputs": [
    {
     "name": "stdout",
     "output_type": "stream",
     "text": [
      "Populating the interactive namespace from numpy and matplotlib\n"
     ]
    }
   ],
   "source": [
    "%pylab inline"
   ]
  },
  {
   "cell_type": "code",
   "execution_count": 10,
   "metadata": {
    "collapsed": false
   },
   "outputs": [
    {
     "name": "stdout",
     "output_type": "stream",
     "text": [
      "estimate = 9.99999\tuncertainty = 0.060042\n"
     ]
    },
    {
     "data": {
      "image/png": "[encoded data removed]",
      "text/plain": [
       "<matplotlib.figure.Figure at 0x11091af60>"
      ]
     },
     "metadata": {},
     "output_type": "display_data"
    }
   ],
   "source": [
    "a = 9.9\n",
    "b = 10.1\n",
    "d = 0.05\n",
    "\n",
    "MCruns = 1000000\n",
    "r1 = random.rand(MCruns)\n",
    "r2 = random.rand(MCruns)\n",
    "a_s = (a-d) + 2*d*r1\n",
    "b_s = (a+b) - a_s\n",
    "\n",
    "xi = a_s + (b_s-a_s)*r2\n",
    "\n",
    "hist(xi, bins = MCruns//1000, edgecolor=\"none\");\n",
    "\n",
    "x = xi.mean()\n",
    "ux = xi.std()\n",
    "\n",
    "print(\"estimate = %g\\tuncertainty = %g\"%(x, ux))\n",
    "axvline(x-ux,color=\"k\");\n",
    "axvline(x+ux,color=\"k\");"
   ]
  },
  {
   "cell_type": "code",
   "execution_count": null,
   "metadata": {
    "collapsed": true
   },
   "outputs": [],
   "source": []
  }
 ],
 "metadata": {
  "anaconda-cloud": {},
  "kernelspec": {
   "display_name": "Python [conda root]",
   "language": "python",
   "name": "conda-root-py"
  },
  "language_info": {
   "codemirror_mode": {
    "name": "ipython",
    "version": 3
   },
   "file_extension": ".py",
   "mimetype": "text/x-python",
   "name": "python",
   "nbconvert_exporter": "python",
   "pygments_lexer": "ipython3",
   "version": "3.5.2"
  }
 },
 "nbformat": 4,
 "nbformat_minor": 1
}
