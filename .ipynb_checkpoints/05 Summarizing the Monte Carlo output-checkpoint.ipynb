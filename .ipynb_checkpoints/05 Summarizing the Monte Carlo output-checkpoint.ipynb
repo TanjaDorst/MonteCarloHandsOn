{
 "cells": [
  {
   "cell_type": "code",
   "execution_count": 1,
   "metadata": {
    "collapsed": false,
    "nbpresent": {
     "id": "d3ec1b0f-bf7a-4d20-b1c7-68193dcce997"
    }
   },
   "outputs": [
    {
     "name": "stdout",
     "output_type": "stream",
     "text": [
      "Populating the interactive namespace from numpy and matplotlib\n"
     ]
    }
   ],
   "source": [
    "%pylab inline\n",
    "pylab.rcParams['figure.figsize'] = (16.0, 8.0)"
   ]
  },
  {
   "cell_type": "markdown",
   "metadata": {
    "nbpresent": {
     "id": "a4c18296-bca2-4559-b952-6a8b98f2f79f"
    }
   },
   "source": [
    "# Summarizing the Monte Carlo output"
   ]
  },
  {
   "cell_type": "markdown",
   "metadata": {
    "nbpresent": {
     "id": "4528ecfb-a3bd-45b7-bad2-0e941ccc995d"
    }
   },
   "source": [
    "The result of a Monte Carlo simulation is a set of samples from the probability distribution associated with the measurand\n",
    "$$ \\{\\mathbf{y}^{(k)},\\,k=1,\\ldots,M\\} $$"
   ]
  },
  {
   "cell_type": "markdown",
   "metadata": {
    "nbpresent": {
     "id": "8dd06483-0984-4ef0-b23f-021f910f3c2a"
    }
   },
   "source": [
    "The aim is to derive characteristic information about the measurand from this set:\n",
    "\n",
    "1) best estimate\n",
    "\n",
    "2) uncertainty associated with the best estimate\n",
    "\n",
    "3) intervals/regions with a prescribed coverage probability"
   ]
  },
  {
   "cell_type": "markdown",
   "metadata": {
    "nbpresent": {
     "id": "e9ebfef2-1094-4261-bd04-d89768f43dee"
    }
   },
   "source": [
    "## Univariate measurand"
   ]
  },
  {
   "cell_type": "markdown",
   "metadata": {
    "nbpresent": {
     "id": "b8ecff65-d340-4f51-ab1f-aad9de54d603"
    }
   },
   "source": [
    "1) best estimate\n",
    "\\begin{align}\n",
    "y =& mean \\{ y^{(k)}, k=1,\\ldots,M\\} \\\\\n",
    "=& \\frac{1}{M} \\sum_{k=1}^M y^{(k)}\n",
    "\\end{align}\n",
    "2) uncertainty associated with the best estimate\n",
    "\\begin{align}\n",
    "u_y =& std\\{ y^{(k)}, k=1,\\ldots,M\\} \\\\\n",
    "=& \\frac{1}{M-1} \\sum_{k=1}^M (y-y^{(k)})^2\n",
    "\\end{align}"
   ]
  },
  {
   "cell_type": "markdown",
   "metadata": {
    "nbpresent": {
     "id": "b621afbc-6f09-4e86-9890-29aa858c93dc"
    }
   },
   "source": [
    "### Exercise 4.1\n",
    "\n",
    "Draw randomly from the normal distribution with mean $\\mu=1.3$ and standard deviation $\\sigma=0.4$ and calculate best estimate and its uncertainy using 100, 200, 300, ..., 100 000 draws. Compare estimate and uncertainty with mean and standard deviation of the original distribution for the different number of draws."
   ]
  },
  {
   "cell_type": "code",
   "execution_count": 2,
   "metadata": {
    "collapsed": false,
    "nbpresent": {
     "id": "d3eafb75-33f4-4196-9215-c7c9bafb276e"
    }
   },
   "outputs": [],
   "source": [
    "from scipy.stats import norm\n"
   ]
  },
  {
   "cell_type": "markdown",
   "metadata": {
    "nbpresent": {
     "id": "ab636e15-c803-42a8-9145-c0193b9dfab2"
    }
   },
   "source": [
    "Intervals with a prescribed coverage probability can be calculated from the Monte Carlo outcome as follows\n",
    "\n",
    "1) Sort the Monte Carlo outcome in ascending order \n",
    "``` python\n",
    "    sort(Y)\n",
    "```\n",
    "2) For propability $P$ calculate the corresponding fraction of Monte Carlo draws $q=int(PM)$\n",
    "\n",
    "3) Set lower bound of interval as $r=int(0.5(M-q))$ for a probabilistically symmetrical interval\n",
    "\n",
    "4) Calculate upper bound of interval as $r+q$"
   ]
  },
  {
   "cell_type": "markdown",
   "metadata": {
    "nbpresent": {
     "id": "af5f004e-360d-45be-b201-2f17fb61a8c2"
    }
   },
   "source": [
    "### Exercise 4.2\n",
    "\n",
    "Draw randomly from the distribution from Exercise 4.1 and calculate the 95% probabilistally symetrical coverage interval from 1000, 10000 and 100000 draws. Compare the result to the exact 95% interval."
   ]
  },
  {
   "cell_type": "code",
   "execution_count": 3,
   "metadata": {
    "collapsed": false,
    "nbpresent": {
     "id": "a93357c4-9c90-4341-a185-217c0ade693d"
    }
   },
   "outputs": [],
   "source": [
    "from scipy.stats import norm\n",
    "\n",
    "P = 0.95 # sought probability of coverage interval\n",
    "\n"
   ]
  },
  {
   "cell_type": "markdown",
   "metadata": {
    "nbpresent": {
     "id": "5a05fd6c-76d2-47a4-9c24-58b7f6404d86"
    }
   },
   "source": [
    "## Multivariate measurand"
   ]
  },
  {
   "cell_type": "markdown",
   "metadata": {
    "nbpresent": {
     "id": "b1c8148b-2bd3-4132-96a3-16a6d316eac6"
    }
   },
   "source": [
    "1) best estimate\n",
    "\\begin{align}\n",
    "\\mathbf{y} =& mean \\{ \\mathbf{y}^{(k)}, k=1,\\ldots,M\\} \\\\\n",
    "=& \\frac{1}{M} \\sum_{k=1}^M \\mathbf{y}^{(k)}\n",
    "\\end{align}\n",
    "2) uncertainty associated with the best estimate\n",
    "\\begin{align}\n",
    "U_\\mathbf{y} =& cov\\{ \\mathbf{y}^{(k)}, k=1,\\ldots,M\\} \\\\\n",
    "=& \\frac{1}{M-1} \\sum_{k=1}^M (\\mathbf{y}-\\mathbf{y}^{(k)})(\\mathbf{y}-\\mathbf{y}^{(k)})^T\n",
    "\\end{align}"
   ]
  },
  {
   "cell_type": "markdown",
   "metadata": {
    "nbpresent": {
     "id": "5d6183ef-814d-4ea6-87ae-7dc95e9daf05"
    }
   },
   "source": [
    "### Exercise 4.3\n",
    "\n",
    "Draw randomly from the normal distribution with mean \n",
    "$$\\mathbf{\\mu}=\\left( \\begin{array}{c}\n",
    "0.4 \\\\ -1.5\n",
    "\\end{array}\\right)\n",
    "$$ \n",
    "and covariance\n",
    "$$\n",
    "\\Sigma=\\left(\\begin{array}{cc}\n",
    "0.09 & -0.2 \\\\ -0.2 & 1.44\n",
    "\\end{array}\\right)\n",
    "$$\n",
    "and calculate best estimate and its uncertainy using 1000, 10000 and 100 000 draws. Compare estimate and uncertainty with mean and covariance of the original distribution for the different number of draws."
   ]
  },
  {
   "cell_type": "code",
   "execution_count": 4,
   "metadata": {
    "collapsed": false,
    "nbpresent": {
     "id": "a98199d3-752c-42fb-9d7e-b31d69e8da5f"
    }
   },
   "outputs": [],
   "source": [
    "from scipy.stats import multivariate_normal\n",
    "\n"
   ]
  },
  {
   "cell_type": "markdown",
   "metadata": {
    "nbpresent": {
     "id": "df956796-6546-4dff-ad19-2251246d7c37"
    }
   },
   "source": [
    "Regions with a prescribed coverage probability can be calculated from the multivariate Monte Carlo outcome as follows\n",
    "\n",
    "1) Calculate the Cholesky decomposition of the sample covariance matrix $U_{\\mathbf{y}}=\\mathbf{LL}^T$\n",
    "\n",
    "2) Transform the Monte Carlo outcomes\n",
    "$$ \\mathbf{y}_{(k)} = \\mathbf{L}^{-1}(\\mathbf{y}^{(k)}-\\mathbf{y})$$\n",
    "and sort according to the distance measure\n",
    "$$ d^2_{(k)} = \\mathbf{y}_{(k)}^T\\mathbf{y}_{(k)} $$\n",
    "\n",
    "3) calculate $k_P$ such that a fraction $P$ of all Monte Carlo outcomes satisfies $d_{(k)}<k_P$\n",
    "\n",
    "This defines the ellipsoidal region $(\\mathbf{\\eta}-\\mathbf{y})^TU_{\\mathbf{y}}^{-1}(\\mathbf{\\eta}-\\mathbf{y})<k^2_P$\n",
    "\n",
    "For a bivariate normal distribution, the factor for a 95% coverage ellipsoidal region is given as the 95% quantile of the $\\chi^2$ distribution with 2 degrees of freedom."
   ]
  },
  {
   "cell_type": "markdown",
   "metadata": {
    "nbpresent": {
     "id": "d249b64c-c403-4a93-9621-d1bc390c5d97"
    }
   },
   "source": [
    "### Exercise 4.4\n",
    "\n",
    "Calculate 100 000 random draws from the distribution from Exercise 4.3 and calculate the 95% coverage region. Compare to the true 95% coverage region."
   ]
  },
  {
   "cell_type": "code",
   "execution_count": 5,
   "metadata": {
    "collapsed": true,
    "nbpresent": {
     "id": "f9bd0acc-9db7-4ef8-869b-6b5c3b8bcbe4"
    }
   },
   "outputs": [],
   "source": [
    "def calculate_ellipse(mu, Sigma, kP):\n",
    "    vals, vecs = linalg.eigh(Sigma)\n",
    "    order = vals.argsort()[::-1]\n",
    "    vals = vals[order]\n",
    "    vecs = vecs[:,order]\n",
    "    theta = degrees(np.arctan2(*vecs[:,0][::-1]))\n",
    "    width, height = kP * sqrt(vals)\n",
    "    return width, height, theta\n"
   ]
  },
  {
   "cell_type": "code",
   "execution_count": 5,
   "metadata": {
    "collapsed": false,
    "nbpresent": {
     "id": "58bc76fa-e48c-44d4-81b0-39c72da4fa5f"
    }
   },
   "outputs": [],
   "source": [
    "from scipy.stats import multivariate_normal, chi2\n",
    "from matplotlib.patches import Ellipse\n",
    "\n",
    "mu = array([0.4, -1.5])\n",
    "Sigma = array([[0.09, -0.2],[-0.2, 1.44]])\n",
    "\n"
   ]
  }
 ],
 "metadata": {
  "anaconda-cloud": {},
  "kernelspec": {
   "display_name": "Python [default]",
   "language": "python",
   "name": "python3"
  },
  "language_info": {
   "codemirror_mode": {
    "name": "ipython",
    "version": 3
   },
   "file_extension": ".py",
   "mimetype": "text/x-python",
   "name": "python",
   "nbconvert_exporter": "python",
   "pygments_lexer": "ipython3",
   "version": "3.5.2"
  },
  "nbpresent": {
   "slides": {
    "00093c3a-32a5-402e-a493-cab793c65e35": {
     "id": "00093c3a-32a5-402e-a493-cab793c65e35",
     "prev": "d80d3c6f-ae3e-4cbf-99ed-e076163851b6",
     "regions": {
      "0aa6ccaf-3225-4d9a-b876-efd3f076c2f8": {
       "attrs": {
        "height": 0.4,
        "width": 0.4,
        "x": 0.5,
        "y": 0.5
       },
       "id": "0aa6ccaf-3225-4d9a-b876-efd3f076c2f8"
      },
      "81cb7782-1d61-4101-b838-89313b4d9405": {
       "attrs": {
        "height": 0.4,
        "width": 0.4,
        "x": 0.1,
        "y": 0.5
       },
       "id": "81cb7782-1d61-4101-b838-89313b4d9405"
      },
      "af398755-4881-49a1-be10-163a1027dbe5": {
       "attrs": {
        "height": 0.4,
        "width": 0.4,
        "x": 0.5,
        "y": 0.1
       },
       "id": "af398755-4881-49a1-be10-163a1027dbe5"
      },
      "df808ad3-6dc9-4a04-87be-e4b758cece39": {
       "attrs": {
        "height": 0.4,
        "width": 0.4,
        "x": 0.1,
        "y": 0.1
       },
       "content": {
        "cell": "f9bd0acc-9db7-4ef8-869b-6b5c3b8bcbe4",
        "part": "source"
       },
       "id": "df808ad3-6dc9-4a04-87be-e4b758cece39"
      }
     }
    },
    "0439803c-edb7-4834-b8ca-04d18e0c694f": {
     "id": "0439803c-edb7-4834-b8ca-04d18e0c694f",
     "prev": "00093c3a-32a5-402e-a493-cab793c65e35",
     "regions": {
      "06416cf9-dc99-496a-918b-2e40ebb558ce": {
       "attrs": {
        "height": 0.4,
        "width": 0.4,
        "x": 0.5,
        "y": 0.5
       },
       "content": {
        "cell": "b7a8334f-a497-4259-b43c-41edf90e0cb8",
        "part": "outputs"
       },
       "id": "06416cf9-dc99-496a-918b-2e40ebb558ce"
      },
      "44df8586-036f-43c4-8857-34543b1638eb": {
       "attrs": {
        "height": 0.4,
        "width": 0.4,
        "x": 0.1,
        "y": 0.1
       },
       "content": {
        "cell": "f9bd0acc-9db7-4ef8-869b-6b5c3b8bcbe4",
        "part": "source"
       },
       "id": "44df8586-036f-43c4-8857-34543b1638eb"
      },
      "6c4525f3-f4d1-43cf-b76c-05b26adec425": {
       "attrs": {
        "height": 0.4,
        "width": 0.4,
        "x": 0.1,
        "y": 0.5
       },
       "content": {
        "cell": "b7a8334f-a497-4259-b43c-41edf90e0cb8",
        "part": "source"
       },
       "id": "6c4525f3-f4d1-43cf-b76c-05b26adec425"
      },
      "b789b321-04a8-41dc-89b9-7f28921a3770": {
       "attrs": {
        "height": 0.4,
        "width": 0.4,
        "x": 0.5,
        "y": 0.1
       },
       "content": {
        "cell": "58bc76fa-e48c-44d4-81b0-39c72da4fa5f",
        "part": "source"
       },
       "id": "b789b321-04a8-41dc-89b9-7f28921a3770"
      }
     }
    },
    "0c97f5ed-b0a4-444e-90c4-27fae226f990": {
     "id": "0c97f5ed-b0a4-444e-90c4-27fae226f990",
     "prev": "647c1250-9a82-4a08-b466-19c0478dbbe8",
     "regions": {
      "98751cf4-0d91-4ece-b113-f1d6fd27567e": {
       "attrs": {
        "height": 1,
        "width": 1,
        "x": 0,
        "y": 0
       },
       "content": {
        "cell": "df956796-6546-4dff-ad19-2251246d7c37",
        "part": "whole"
       },
       "id": "98751cf4-0d91-4ece-b113-f1d6fd27567e"
      }
     }
    },
    "43ef2e67-670d-4ef6-9291-43dad5eabadc": {
     "id": "43ef2e67-670d-4ef6-9291-43dad5eabadc",
     "prev": "bb44ee1d-40e9-4833-b121-863d5dd88ca7",
     "regions": {
      "eba30285-15ec-4cf0-a78d-172752ad037d": {
       "attrs": {
        "height": 0.8,
        "width": 0.8,
        "x": 0.1,
        "y": 0.1
       },
       "content": {
        "cell": "a93357c4-9c90-4341-a185-217c0ade693d",
        "part": "whole"
       },
       "id": "eba30285-15ec-4cf0-a78d-172752ad037d"
      }
     }
    },
    "647c1250-9a82-4a08-b466-19c0478dbbe8": {
     "id": "647c1250-9a82-4a08-b466-19c0478dbbe8",
     "prev": "f15ec576-ce8c-4b40-bee2-ca33173e9bb4",
     "regions": {
      "9dad6a72-567b-443a-95a6-e3025da0d294": {
       "attrs": {
        "height": 0.8,
        "width": 0.45,
        "x": 0.5,
        "y": 0.1
       },
       "content": {
        "cell": "a98199d3-752c-42fb-9d7e-b31d69e8da5f",
        "part": "outputs"
       },
       "id": "9dad6a72-567b-443a-95a6-e3025da0d294"
      },
      "ff74c8b8-d2ab-43ae-84a7-e22f33d6afb2": {
       "attrs": {
        "height": 0.8,
        "width": 0.45,
        "x": 0.05,
        "y": 0.1
       },
       "content": {
        "cell": "a98199d3-752c-42fb-9d7e-b31d69e8da5f",
        "part": "source"
       },
       "id": "ff74c8b8-d2ab-43ae-84a7-e22f33d6afb2"
      }
     }
    },
    "94f3072a-cc86-43b3-bb07-3eebfcafc88c": {
     "id": "94f3072a-cc86-43b3-bb07-3eebfcafc88c",
     "prev": "a91eb7fa-c6a8-48f0-a19a-c98d15c0e1c6",
     "regions": {
      "4f6c61d8-a072-46de-ad65-b7c50b50240f": {
       "attrs": {
        "height": 0.47649950835791544,
        "width": 0.7868362831858406,
        "x": 0.19192477876106195,
        "y": 0.371386430678466
       },
       "content": {
        "cell": "8dd06483-0984-4ef0-b23f-021f910f3c2a",
        "part": "whole"
       },
       "id": "4f6c61d8-a072-46de-ad65-b7c50b50240f"
      },
      "e50f154f-c323-44f8-a848-5d46ded09808": {
       "attrs": {
        "height": 0.30639134709931176,
        "width": 0.4466814159292036,
        "x": 0.05,
        "y": 0.1
       },
       "content": {
        "cell": "4528ecfb-a3bd-45b7-bad2-0e941ccc995d",
        "part": "whole"
       },
       "id": "e50f154f-c323-44f8-a848-5d46ded09808"
      }
     }
    },
    "9eeddf90-1d80-4895-a499-32d64e4ca1c3": {
     "id": "9eeddf90-1d80-4895-a499-32d64e4ca1c3",
     "prev": "43ef2e67-670d-4ef6-9291-43dad5eabadc",
     "regions": {
      "6a20023e-a150-4c9d-af64-d9904c3e90c4": {
       "attrs": {
        "height": 0.6647000983284169,
        "width": 0.7555309734513275,
        "x": 0.1404867256637168,
        "y": 0.21238938053097345
       },
       "content": {
        "cell": "b1c8148b-2bd3-4132-96a3-16a6d316eac6",
        "part": "whole"
       },
       "id": "6a20023e-a150-4c9d-af64-d9904c3e90c4"
      },
      "eab9fc34-246f-425e-a790-8685978b6ec6": {
       "attrs": {
        "height": 0.09596853490658801,
        "width": 0.7856194690265488,
        "x": 0.14148230088495573,
        "y": 0.06855784464110133
       },
       "content": {
        "cell": "5a05fd6c-76d2-47a4-9c24-58b7f6404d86",
        "part": "source"
       },
       "id": "eab9fc34-246f-425e-a790-8685978b6ec6"
      }
     }
    },
    "a91eb7fa-c6a8-48f0-a19a-c98d15c0e1c6": {
     "id": "a91eb7fa-c6a8-48f0-a19a-c98d15c0e1c6",
     "prev": null,
     "regions": {
      "aee63b0e-8e6d-486e-9c10-a96fd2f41b3c": {
       "attrs": {
        "height": 1,
        "width": 1,
        "x": 0,
        "y": 0
       },
       "content": {
        "cell": "a4c18296-bca2-4559-b952-6a8b98f2f79f",
        "part": "whole"
       },
       "id": "aee63b0e-8e6d-486e-9c10-a96fd2f41b3c"
      }
     },
     "theme": "ba3b9c36-dc6d-4bb1-bece-ab6fbf961204"
    },
    "ac8a1556-bc5f-4b5a-9c18-43ccbf313157": {
     "id": "ac8a1556-bc5f-4b5a-9c18-43ccbf313157",
     "prev": "f00c7c4a-8270-4d84-a482-ace56fa26201",
     "regions": {
      "0c155021-f8cb-40d4-8dee-d6f2fca08862": {
       "attrs": {
        "height": 0.8,
        "width": 0.45,
        "x": 0.5,
        "y": 0.1
       },
       "content": {
        "cell": "d3eafb75-33f4-4196-9215-c7c9bafb276e",
        "part": "outputs"
       },
       "id": "0c155021-f8cb-40d4-8dee-d6f2fca08862"
      },
      "a1670290-461c-412e-8aeb-11cced5fedb6": {
       "attrs": {
        "height": 0.8,
        "width": 0.45,
        "x": 0.05,
        "y": 0.1
       },
       "content": {
        "cell": "d3eafb75-33f4-4196-9215-c7c9bafb276e",
        "part": "source"
       },
       "id": "a1670290-461c-412e-8aeb-11cced5fedb6"
      }
     }
    },
    "b7f36865-3727-4908-a257-074bee4b13c3": {
     "id": "b7f36865-3727-4908-a257-074bee4b13c3",
     "prev": "94f3072a-cc86-43b3-bb07-3eebfcafc88c",
     "regions": {
      "23b5a197-02f7-4d0e-959d-a1b8b469ea1e": {
       "attrs": {
        "height": 0.14414945919370706,
        "width": 0.5844026548672566,
        "x": 0.05,
        "y": 0.1
       },
       "content": {
        "cell": "e9ebfef2-1094-4261-bd04-d89768f43dee",
        "part": "whole"
       },
       "id": "23b5a197-02f7-4d0e-959d-a1b8b469ea1e"
      },
      "bd7a191c-d495-414f-9532-9116217f2e81": {
       "attrs": {
        "height": 0.6348082595870208,
        "width": 0.6225663716814159,
        "x": 0.19800884955752213,
        "y": 0.23470993117010822
       },
       "content": {
        "cell": "b8ecff65-d340-4f51-ab1f-aad9de54d603",
        "part": "whole"
       },
       "id": "bd7a191c-d495-414f-9532-9116217f2e81"
      }
     }
    },
    "bb44ee1d-40e9-4833-b121-863d5dd88ca7": {
     "id": "bb44ee1d-40e9-4833-b121-863d5dd88ca7",
     "prev": "ac8a1556-bc5f-4b5a-9c18-43ccbf313157",
     "regions": {
      "988c8616-798b-46c4-a814-b8ae86c1259c": {
       "attrs": {
        "height": 0.3172074729596855,
        "width": 0.8962389380530974,
        "x": 0.04413716814159293,
        "y": 0.6752212389380532
       },
       "content": {
        "cell": "af5f004e-360d-45be-b201-2f17fb61a8c2",
        "part": "whole"
       },
       "id": "988c8616-798b-46c4-a814-b8ae86c1259c"
      },
      "db01f8b6-9b39-4094-a4f8-c67fc4663a44": {
       "attrs": {
        "height": 0.6666666666666666,
        "width": 0.9043141592920354,
        "x": 0.019358407079646017,
        "y": 0
       },
       "content": {
        "cell": "ab636e15-c803-42a8-9145-c0193b9dfab2",
        "part": "whole"
       },
       "id": "db01f8b6-9b39-4094-a4f8-c67fc4663a44"
      }
     }
    },
    "d80d3c6f-ae3e-4cbf-99ed-e076163851b6": {
     "id": "d80d3c6f-ae3e-4cbf-99ed-e076163851b6",
     "prev": "0c97f5ed-b0a4-444e-90c4-27fae226f990",
     "regions": {
      "70ac4ec1-5914-4399-9c1c-d3ff42d060a0": {
       "attrs": {
        "height": 0.2,
        "width": 0.4,
        "x": 0.5,
        "y": 0.7
       },
       "id": "70ac4ec1-5914-4399-9c1c-d3ff42d060a0"
      },
      "7861a6f1-571c-48ff-b2a1-30dcf1cbb62d": {
       "attrs": {
        "height": 0.6,
        "width": 0.8,
        "x": 0.1,
        "y": 0.1
       },
       "content": {
        "cell": "d249b64c-c403-4a93-9621-d1bc390c5d97",
        "part": "whole"
       },
       "id": "7861a6f1-571c-48ff-b2a1-30dcf1cbb62d"
      },
      "7d9415d9-1bae-49ec-b8e1-e74762b14113": {
       "attrs": {
        "height": 0.2,
        "width": 0.4,
        "x": 0.1,
        "y": 0.7
       },
       "id": "7d9415d9-1bae-49ec-b8e1-e74762b14113"
      }
     }
    },
    "f00c7c4a-8270-4d84-a482-ace56fa26201": {
     "id": "f00c7c4a-8270-4d84-a482-ace56fa26201",
     "prev": "b7f36865-3727-4908-a257-074bee4b13c3",
     "regions": {
      "33ab987b-ca4a-42f3-9a99-018ce1f26b2d": {
       "attrs": {
        "height": 0.2,
        "width": 0.4,
        "x": 0.1,
        "y": 0.7
       },
       "id": "33ab987b-ca4a-42f3-9a99-018ce1f26b2d"
      },
      "d3a7dfd6-1b5a-4a99-a819-774c77498790": {
       "attrs": {
        "height": 0.6,
        "width": 0.8,
        "x": 0.1,
        "y": 0.1
       },
       "content": {
        "cell": "b621afbc-6f09-4e86-9890-29aa858c93dc",
        "part": "whole"
       },
       "id": "d3a7dfd6-1b5a-4a99-a819-774c77498790"
      },
      "fc13ae6a-de68-42f8-bd1a-bc8f30a7ee34": {
       "attrs": {
        "height": 0.2,
        "width": 0.4,
        "x": 0.5,
        "y": 0.7
       },
       "id": "fc13ae6a-de68-42f8-bd1a-bc8f30a7ee34"
      }
     }
    },
    "f15ec576-ce8c-4b40-bee2-ca33173e9bb4": {
     "id": "f15ec576-ce8c-4b40-bee2-ca33173e9bb4",
     "prev": "9eeddf90-1d80-4895-a499-32d64e4ca1c3",
     "regions": {
      "0159259d-b0e0-479f-8fde-6a3f99e24adc": {
       "attrs": {
        "height": 0.2,
        "width": 0.4,
        "x": 0.1,
        "y": 0.7
       },
       "id": "0159259d-b0e0-479f-8fde-6a3f99e24adc"
      },
      "17737bab-ce0a-49f2-9b52-d977fdc87c03": {
       "attrs": {
        "height": 0.2,
        "width": 0.4,
        "x": 0.5,
        "y": 0.7
       },
       "id": "17737bab-ce0a-49f2-9b52-d977fdc87c03"
      },
      "774a40f9-5183-4963-8ca9-91ea1f91a088": {
       "attrs": {
        "height": 0.6,
        "width": 0.8,
        "x": 0.1,
        "y": 0.1
       },
       "content": {
        "cell": "5d6183ef-814d-4ea6-87ae-7dc95e9daf05",
        "part": "whole"
       },
       "id": "774a40f9-5183-4963-8ca9-91ea1f91a088"
      }
     }
    }
   },
   "themes": {
    "default": "ba3b9c36-dc6d-4bb1-bece-ab6fbf961204",
    "theme": {
     "ba3b9c36-dc6d-4bb1-bece-ab6fbf961204": {
      "backgrounds": {
       "backgroundColor": {
        "background-color": "backgroundColor",
        "id": "backgroundColor"
       }
      },
      "id": "ba3b9c36-dc6d-4bb1-bece-ab6fbf961204",
      "palette": {
       "backgroundColor": {
        "id": "backgroundColor",
        "rgb": [
         253,
         246,
         227
        ]
       },
       "headingColor": {
        "id": "headingColor",
        "rgb": [
         88,
         110,
         117
        ]
       },
       "linkColor": {
        "id": "linkColor",
        "rgb": [
         38,
         139,
         210
        ]
       },
       "mainColor": {
        "id": "mainColor",
        "rgb": [
         101,
         123,
         131
        ]
       }
      },
      "rules": {
       "a": {
        "color": "linkColor"
       },
       "h1": {
        "color": "headingColor",
        "font-family": "Oswald",
        "font-size": 7
       },
       "h2": {
        "color": "headingColor",
        "font-family": "Oswald",
        "font-size": 5
       },
       "h3": {
        "color": "headingColor",
        "font-family": "Oswald",
        "font-size": 3.75
       },
       "h4": {
        "color": "headingColor",
        "font-family": "Oswald",
        "font-size": 3
       },
       "h5": {
        "color": "headingColor",
        "font-family": "Oswald"
       },
       "h6": {
        "color": "headingColor",
        "font-family": "Oswald"
       },
       "h7": {
        "color": "headingColor",
        "font-family": "Oswald"
       },
       "li": {
        "color": "mainColor",
        "font-family": "Lato",
        "font-size": 5
       },
       "p": {
        "color": "mainColor",
        "font-family": "Lato",
        "font-size": 5
       }
      },
      "text-base": {
       "color": "mainColor",
       "font-family": "Lato",
       "font-size": 5
      }
     }
    }
   }
  }
 },
 "nbformat": 4,
 "nbformat_minor": 0
}
