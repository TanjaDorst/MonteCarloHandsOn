{
 "cells": [
  {
   "cell_type": "code",
   "execution_count": 1,
   "metadata": {
    "collapsed": false,
    "nbpresent": {
     "id": "f5fc4534-488a-4e54-8e4c-e97a86dc9388"
    },
    "slideshow": {
     "slide_type": "skip"
    }
   },
   "outputs": [
    {
     "name": "stdout",
     "output_type": "stream",
     "text": [
      "Populating the interactive namespace from numpy and matplotlib\n"
     ]
    }
   ],
   "source": [
    "%pylab inline\n",
    "pylab.rcParams['figure.figsize'] = (16.0, 8.0)"
   ]
  },
  {
   "cell_type": "markdown",
   "metadata": {
    "nbpresent": {
     "id": "e1323dc1-41cf-40d4-8250-9dab630288a5"
    },
    "slideshow": {
     "slide_type": "slide"
    }
   },
   "source": [
    "# Adaptive determination of Monte Carlo trials"
   ]
  },
  {
   "cell_type": "markdown",
   "metadata": {
    "nbpresent": {
     "id": "411f678c-474e-4890-a4c1-c7c8a3b40bab"
    },
    "slideshow": {
     "slide_type": "subslide"
    }
   },
   "source": [
    "The Monte Carlo outcome is based on **random** draws from the joint probability distribution associated with the input quantities. Thus, the outcome and every statistics derived are **random**."
   ]
  },
  {
   "cell_type": "markdown",
   "metadata": {
    "nbpresent": {
     "id": "395824a3-46fd-4e80-85c2-6f28f82d6393"
    },
    "slideshow": {
     "slide_type": "subslide"
    }
   },
   "source": [
    "### Exercise 5.1\n",
    "\n",
    "For the model function \n",
    "$$ Y = f(X_1,X_2,X_3) = X_1 + X_2 + X_3 $$\n",
    "with independent input quantities for which knowledge is encoded as\n",
    "\n",
    "- $X_1$: Gamma distribution with scale parameter $a=1.5$\n",
    "\n",
    "- $X_2$: normal distribution with $\\mu=1.3$ and $\\sigma=0.1$\n",
    "\n",
    "- $X_3$: t-distribution with location parameter $0.8$ and scale parameter $0.3$ and with 5 degrees of freedom\n",
    "\n",
    "carry out a Monte Carlo simulation with 1000 runs. Repeat this simulation 100 times using a for-loop. Calculate and store the estimates $y$ for each simulation run and compare the different outcomes."
   ]
  },
  {
   "cell_type": "code",
   "execution_count": 2,
   "metadata": {
    "collapsed": false,
    "nbpresent": {
     "id": "6f133a6d-1ac8-412b-a3af-8bbd10d381d6"
    },
    "slideshow": {
     "slide_type": "skip"
    }
   },
   "outputs": [
    {
     "data": {
      "image/png": "[encoded data removed]",
      "text/plain": [
       "<matplotlib.figure.Figure at 0x10e4b3a90>"
      ]
     },
     "metadata": {},
     "output_type": "display_data"
    }
   ],
   "source": [
    "from scipy.stats import gamma, norm, t\n",
    "\n",
    "rst = random.RandomState(1)\n",
    "\n",
    "# distribution of input quantities\n",
    "x1dist = gamma(1.5)\n",
    "x2dist = norm(loc=1.3, scale=0.1)\n",
    "x3dist = t(loc=0.8, scale=0.3, df=5)\n",
    "\n",
    "# measurement model\n",
    "model = lambda X1,X2,X3: X1 + X2 + X3\n",
    "\n",
    "MCruns = 1000\n",
    "repeats= 100\n",
    "\n",
    "means = zeros(repeats)\n",
    "\n",
    "# repeat Monte Carlo runs\n",
    "for k in range(repeats):\n",
    "    x1 = x1dist.rvs(MCruns)\n",
    "    x2 = x2dist.rvs(MCruns)\n",
    "    x3 = x3dist.rvs(MCruns)\n",
    "    Y = model(x1,x2,x3)\n",
    "    means[k] = Y.mean()\n",
    "\n",
    "hist(means, bins = 20)\n",
    "title(\"Mean values of 100 repeated Monte Carlo runs (with 1000 trials each)\");"
   ]
  },
  {
   "cell_type": "markdown",
   "metadata": {
    "nbpresent": {
     "id": "8e94c66a-8598-46b6-8ecf-dd1a3c6d28c2"
    },
    "slideshow": {
     "slide_type": "slide"
    }
   },
   "source": [
    "## Adaptive Monte Carlo method"
   ]
  },
  {
   "cell_type": "markdown",
   "metadata": {
    "nbpresent": {
     "id": "a4ea3da2-36b8-4b28-8c6f-929864f0272d"
    },
    "slideshow": {
     "slide_type": "subslide"
    }
   },
   "source": [
    "The randomness of the Monte Carlo outcomes cannot be avoided. However, the variation between runs decreases with an increasing number of Monte Carlo simulations. The aim is thus to adaptively decide on the number of Monte Carlo trials based on\n",
    "\n",
    "* a prescribed numerical tolerance\n",
    "\n",
    "* at a chosen level of confidence"
   ]
  },
  {
   "cell_type": "markdown",
   "metadata": {
    "nbpresent": {
     "id": "94e88390-ae8c-400f-943d-626a869e5dbc"
    },
    "slideshow": {
     "slide_type": "subslide"
    }
   },
   "source": [
    "#### Stein's method\n",
    "\n",
    "From Wübbeler et al. (doi: http://iopscience.iop.org/0026-1394/47/3/023):\n",
    "\n",
    "Let $y_1, y_2, \\ldots$ be a sequence of values drawn independentyl from a Gaussian distribution with unknown expecation $\\mu$ and variance $\\sigma^2$. \n",
    "The aim is to determine a rule that terminates this sequence such that $\\bar{y}(h)$, being the average of the sequence terminated at $h$, satisfies that the interval\n",
    "$$ [\\bar{y}(h)-\\delta, \\bar{y}(h)+\\delta] $$\n",
    "is a confidence interval for $\\mu$ at confidence level $1-\\alpha$."
   ]
  },
  {
   "cell_type": "markdown",
   "metadata": {
    "nbpresent": {
     "id": "1fd959e0-6d89-494f-82cb-3c23604b5525"
    },
    "slideshow": {
     "slide_type": "subslide"
    }
   },
   "source": [
    "1) Draw an initial number $h_1>1$ of samples and calculate\n",
    "$$ s_y^2(h_1) = \\frac{1}{h-1} \\sum_{i=1}^{h_1} (y_i - \\bar{y}(h_1))^2 $$\n",
    "\n",
    "2) Calculate the number $h_2$ of additional values as\n",
    "$$ h_2 = \\max \\left( floor({\\frac{s_y^2(h_1)(t_{h_1-1,1-\\alpha/2})^2}{\\delta^2}})-h_1+1,0 \\right) $$"
   ]
  },
  {
   "cell_type": "markdown",
   "metadata": {
    "nbpresent": {
     "id": "11faae09-3d8d-4b6f-9b4e-04d22ab0c5a0"
    },
    "slideshow": {
     "slide_type": "subslide"
    }
   },
   "source": [
    "#### Application to Monte Carlo simulations\n",
    "\n",
    "We consider Monte Carlo simulations block-wise. That is, we choose a modest number of Monte Carlo trials, e.g. 1000, and consider a Monte Carlo simulation with that number of trials as one block. Each block has a block mean, standard deviation (uncertainty), etc. "
   ]
  },
  {
   "cell_type": "markdown",
   "metadata": {
    "nbpresent": {
     "id": "8076a57b-5c40-4348-ad22-12e39a47b7d0"
    },
    "slideshow": {
     "slide_type": "fragment"
    }
   },
   "source": [
    "With $h_1$ being the number of such blocks and $y_1,y_2,\\ldots$ a selected outcome of each block (e.g. the mean, variance, interval boundaries, etc.) Stein's method can be applied to calculate the additionally required number of blocks."
   ]
  },
  {
   "cell_type": "markdown",
   "metadata": {
    "nbpresent": {
     "id": "e0946270-2b4b-4438-a1b1-a3a39488b59c"
    },
    "slideshow": {
     "slide_type": "subslide"
    }
   },
   "source": [
    "**Reminder**\n",
    "The deviation $\\delta$ can be calculated from a prescribed number of significant digits as follows:\n",
    "\n",
    "- Write the number of interest in the form $ z = c \\times 10^l$ with $c$ having the chosen number of digits.\n",
    "\n",
    "- Calculate the numerical tolerance as $\\delta = \\frac{1}{2} 10^l$"
   ]
  },
  {
   "cell_type": "markdown",
   "metadata": {
    "nbpresent": {
     "id": "8ba4d8a4-8e0e-480a-b8e9-f524ee82251a"
    },
    "slideshow": {
     "slide_type": "subslide"
    }
   },
   "source": [
    "### Exercise 5.2\n",
    "\n",
    "Repeat Exercise 5.1 using Stein's method, starting with an initial number of $h_1 = 10$ repetitions. Calculate $h_2$ such that a numerical tolerance of 2 digits is achieved with a 95% level of confidence. "
   ]
  },
  {
   "cell_type": "code",
   "execution_count": 3,
   "metadata": {
    "collapsed": false,
    "nbpresent": {
     "id": "6f49734d-9983-402b-b6ef-64f07de8b332"
    },
    "slideshow": {
     "slide_type": "skip"
    }
   },
   "outputs": [],
   "source": [
    "from scipy.stats import gamma, norm, t\n",
    "rst = random.RandomState(1)\n",
    "\n",
    "# distributions of input quantities\n",
    "x1dist = gamma(1.5)\n",
    "x2dist = norm(loc=1.3, scale=0.1)\n",
    "x3dist = t(loc=0.8, scale=0.3, df=5)\n",
    "\n",
    "# measurement model\n",
    "model = lambda X1,X2,X3: X1 + X2 + X3\n",
    "\n",
    "# Monte Carlo block size\n",
    "MCruns = 1000\n",
    "# number of initial Monte Carlo blocks\n",
    "h1 = 10\n",
    "\n",
    "means = zeros(h1)\n",
    "delta = 0.05\n",
    "alpha = 0.05\n",
    "\n",
    "# repeated Monte Carlo method\n",
    "for k in range(h1):\n",
    "    x1 = x1dist.rvs(MCruns)\n",
    "    x2 = x2dist.rvs(MCruns)\n",
    "    x3 = x3dist.rvs(MCruns)\n",
    "    Y = model(x1,x2,x3)\n",
    "    means[k] = Y.mean()"
   ]
  },
  {
   "cell_type": "code",
   "execution_count": 4,
   "metadata": {
    "collapsed": false,
    "nbpresent": {
     "id": "fe8ca718-65a2-40ff-ae87-8b54bd83e767"
    }
   },
   "outputs": [
    {
     "name": "stdout",
     "output_type": "stream",
     "text": [
      "3.58152858849\n"
     ]
    }
   ],
   "source": [
    "# calculate additional number of Monte Carlo blocks\n",
    "h2 = int(max( floor(means.var()*t(h1-1).ppf(1-alpha/2)**2/delta**2) - h1+1, 0 ))\n",
    "\n",
    "means = np.r_[means, zeros(h2)]\n",
    "\n",
    "# repeated Monte Carlo method\n",
    "for k in range(h1,h1+h2):\n",
    "    x1 = x1dist.rvs(MCruns)\n",
    "    x2 = x2dist.rvs(MCruns)\n",
    "    x3 = x3dist.rvs(MCruns)\n",
    "    Y = model(x1,x2,x3)\n",
    "    means[k] = Y.mean()\n",
    "    \n",
    "y = means.mean()\n",
    "    \n",
    "print(y)"
   ]
  },
  {
   "cell_type": "markdown",
   "metadata": {
    "nbpresent": {
     "id": "e9e465ca-a013-420c-a268-60c02aaed12a"
    }
   },
   "source": [
    "The confidence level for the achieved accuracy is a frequentist measure. Therefore, in order to verify the achieved confidence, we repeat the adaptive Monte Carlo method and assess the long run success."
   ]
  },
  {
   "cell_type": "code",
   "execution_count": 5,
   "metadata": {
    "collapsed": true,
    "nbpresent": {
     "id": "7b8de154-c2b1-4ad2-9404-d667f4505bb1"
    }
   },
   "outputs": [],
   "source": [
    "# validate the level of confidence\n",
    "reruns = 1000\n",
    "\n",
    "y = zeros(reruns)\n",
    "\n",
    "MCruns = 1000\n",
    "h1 = 10\n",
    "\n",
    "for r in range(reruns):\n",
    "\n",
    "    means = zeros(h1)\n",
    "    delta = 0.05\n",
    "    alpha = 0.05\n",
    "\n",
    "    for k in range(h1):\n",
    "        x1 = x1dist.rvs(MCruns)\n",
    "        x2 = x2dist.rvs(MCruns)\n",
    "        x3 = x3dist.rvs(MCruns)\n",
    "        Y = model(x1,x2,x3)\n",
    "        means[k] = Y.mean()\n",
    "\n",
    "    h2 = int(max( floor(means.var()*t(h1-1).ppf(1-alpha/2)**2/delta**2) - h1+1, 0 ))\n",
    "\n",
    "    means = np.r_[means, zeros(h2)]\n",
    "    for k in range(h1,h1+h2):\n",
    "        x1 = x1dist.rvs(MCruns)\n",
    "        x2 = x2dist.rvs(MCruns)\n",
    "        x3 = x3dist.rvs(MCruns)\n",
    "        Y = model(x1,x2,x3)\n",
    "        means[k] = Y.mean()\n",
    "        \n",
    "    y[r] = means.mean()\n"
   ]
  },
  {
   "cell_type": "code",
   "execution_count": 6,
   "metadata": {
    "collapsed": false,
    "nbpresent": {
     "id": "11f4b50c-1ff6-4172-97e8-465a0136c4d7"
    },
    "scrolled": false
   },
   "outputs": [
    {
     "data": {
      "image/png": "[encoded data removed]",
      "text/plain": [
       "<matplotlib.figure.Figure at 0x10e60c390>"
      ]
     },
     "metadata": {},
     "output_type": "display_data"
    }
   ],
   "source": [
    "hist(y, bins = 100)\n",
    "axvline(y.mean()-delta, color=\"k\")\n",
    "axvline(y.mean()+delta, color=\"k\")\n",
    "title(\"Mean values of repeated adaptive Monte Carlo method\");"
   ]
  },
  {
   "cell_type": "markdown",
   "metadata": {
    "nbpresent": {
     "id": "f8bca1de-65fa-4009-80ce-ceb83285bfba"
    }
   },
   "source": [
    "The results of the adaptive Monte Carlo method are still random. The spread of calculated mean values, however, is below the chosen tolerance with the prescribed level of confidence."
   ]
  }
 ],
 "metadata": {
  "celltoolbar": "Slideshow",
  "kernelspec": {
   "display_name": "Python [default]",
   "language": "python",
   "name": "python3"
  },
  "language_info": {
   "codemirror_mode": {
    "name": "ipython",
    "version": 3
   },
   "file_extension": ".py",
   "mimetype": "text/x-python",
   "name": "python",
   "nbconvert_exporter": "python",
   "pygments_lexer": "ipython3",
   "version": "3.5.2"
  },
  "nbpresent": {
   "slides": {
    "0a33cd94-d5ed-4cb8-8744-2cec5b4bb87d": {
     "id": "0a33cd94-d5ed-4cb8-8744-2cec5b4bb87d",
     "prev": "db7ffa74-eed1-480d-9d55-ba07fe45171a",
     "regions": {
      "74a39473-b4d2-430c-a10d-4347030b134b": {
       "attrs": {
        "height": 0.8,
        "width": 0.45,
        "x": 0.05,
        "y": 0.1
       },
       "content": {
        "cell": "11f4b50c-1ff6-4172-97e8-465a0136c4d7",
        "part": "source"
       },
       "id": "74a39473-b4d2-430c-a10d-4347030b134b"
      },
      "dec027b4-9019-4924-826a-45d53d92ac47": {
       "attrs": {
        "height": 0.8,
        "width": 0.45,
        "x": 0.5,
        "y": 0.1
       },
       "content": {
        "cell": "11f4b50c-1ff6-4172-97e8-465a0136c4d7",
        "part": "outputs"
       },
       "id": "dec027b4-9019-4924-826a-45d53d92ac47"
      }
     }
    },
    "147ab0f2-f726-4233-aa07-b073db54fe1d": {
     "id": "147ab0f2-f726-4233-aa07-b073db54fe1d",
     "prev": "63fa7de5-27b3-4743-8523-0cd94b1678eb",
     "regions": {
      "57b6cea9-f6f1-4660-8558-eee2acd5a811": {
       "attrs": {
        "height": 0.2700098328416914,
        "width": 0.8873893805309735,
        "x": 0.0518805309734513,
        "y": 0.5228121927236972
       },
       "content": {
        "cell": "e0946270-2b4b-4438-a1b1-a3a39488b59c",
        "part": "source"
       },
       "id": "57b6cea9-f6f1-4660-8558-eee2acd5a811"
      },
      "82cbc416-dd52-489a-83a3-7fd3e68e43ac": {
       "attrs": {
        "height": 0.30934119960668643,
        "width": 0.8974557522123894,
        "x": 0.04944690265486731,
        "y": 0.023303834808259576
       },
       "content": {
        "cell": "11faae09-3d8d-4b6f-9b4e-04d22ab0c5a0",
        "part": "source"
       },
       "id": "82cbc416-dd52-489a-83a3-7fd3e68e43ac"
      },
      "ed005e60-f0ad-475a-ad9f-50d56e47f18a": {
       "attrs": {
        "height": 0.27295968534906606,
        "width": 0.8919247787610619,
        "x": 0.05033185840707965,
        "y": 0.3182890855457227
       },
       "content": {
        "cell": "8076a57b-5c40-4348-ad22-12e39a47b7d0",
        "part": "source"
       },
       "id": "ed005e60-f0ad-475a-ad9f-50d56e47f18a"
      }
     }
    },
    "1d6bb72f-450a-4de6-9ece-29152f146c9e": {
     "id": "1d6bb72f-450a-4de6-9ece-29152f146c9e",
     "prev": "b9ed0008-ca0a-4f03-89dc-b06cf20e9e32",
     "regions": {
      "76a392ff-ed4f-4684-9ef0-b97d19c3917c": {
       "attrs": {
        "height": 0.8,
        "width": 0.45,
        "x": 0.05,
        "y": 0.1
       },
       "content": {
        "cell": "6f49734d-9983-402b-b6ef-64f07de8b332",
        "part": "source"
       },
       "id": "76a392ff-ed4f-4684-9ef0-b97d19c3917c"
      },
      "e298d69d-c8f1-43ca-92ef-ea4bf49e21dc": {
       "attrs": {
        "height": 0.8,
        "width": 0.45,
        "x": 0.5,
        "y": 0.1
       },
       "content": {
        "cell": "fe8ca718-65a2-40ff-ae87-8b54bd83e767",
        "part": "source"
       },
       "id": "e298d69d-c8f1-43ca-92ef-ea4bf49e21dc"
      }
     }
    },
    "2a0ff10e-1f8f-4260-b0d1-aa03956efa2c": {
     "id": "2a0ff10e-1f8f-4260-b0d1-aa03956efa2c",
     "prev": "f0e174b7-6619-4dd0-bbf0-bfdf8a4c5280",
     "regions": {
      "65cf7f88-1c13-4bea-93c4-d501cba9208c": {
       "attrs": {
        "height": 0.8,
        "width": 0.45,
        "x": 0.5,
        "y": 0.1
       },
       "content": {
        "cell": "6f133a6d-1ac8-412b-a3af-8bbd10d381d6",
        "part": "outputs"
       },
       "id": "65cf7f88-1c13-4bea-93c4-d501cba9208c"
      },
      "6eb92f79-c521-4ed3-a6cb-c61488d1209b": {
       "attrs": {
        "height": 0.8,
        "width": 0.45,
        "x": 0.05,
        "y": 0.1
       },
       "content": {
        "cell": "6f133a6d-1ac8-412b-a3af-8bbd10d381d6",
        "part": "source"
       },
       "id": "6eb92f79-c521-4ed3-a6cb-c61488d1209b"
      }
     }
    },
    "63fa7de5-27b3-4743-8523-0cd94b1678eb": {
     "id": "63fa7de5-27b3-4743-8523-0cd94b1678eb",
     "prev": "86919dfb-ac0d-4721-872c-c977cdcf53a8",
     "regions": {
      "1483550f-1ef0-4277-b8dc-2df82a2f8865": {
       "attrs": {
        "height": 0.2,
        "width": 0.4,
        "x": 0.5,
        "y": 0.7
       },
       "id": "1483550f-1ef0-4277-b8dc-2df82a2f8865"
      },
      "c7eaa73d-56fc-495e-962f-1f73164fe824": {
       "attrs": {
        "height": 0.2,
        "width": 0.4,
        "x": 0.1,
        "y": 0.7
       },
       "id": "c7eaa73d-56fc-495e-962f-1f73164fe824"
      },
      "cbf641ea-8df1-4004-8aaa-220b1b436e5a": {
       "attrs": {
        "height": 0.6,
        "width": 0.8,
        "x": 0.1,
        "y": 0.1
       },
       "content": {
        "cell": "1fd959e0-6d89-494f-82cb-3c23604b5525",
        "part": "source"
       },
       "id": "cbf641ea-8df1-4004-8aaa-220b1b436e5a"
      }
     }
    },
    "682d260e-3551-4e42-a834-9bd433f1ff95": {
     "id": "682d260e-3551-4e42-a834-9bd433f1ff95",
     "prev": null,
     "regions": {
      "17d2d0b7-8880-48d8-8fee-d05482160c4b": {
       "attrs": {
        "height": 0.1958702064896755,
        "width": 0.8,
        "x": 0.1,
        "y": 0.1
       },
       "content": {
        "cell": "e1323dc1-41cf-40d4-8250-9dab630288a5",
        "part": "whole"
       },
       "id": "17d2d0b7-8880-48d8-8fee-d05482160c4b"
      },
      "4b15ad25-94c5-414c-80bd-8d7f340ec3dd": {
       "attrs": {
        "height": 0.4055063913470993,
        "width": 0.798783185840708,
        "x": 0.10121681415929204,
        "y": 0.49449360865290065
       },
       "content": {
        "cell": "411f678c-474e-4890-a4c1-c7c8a3b40bab",
        "part": "source"
       },
       "id": "4b15ad25-94c5-414c-80bd-8d7f340ec3dd"
      }
     },
     "theme": "88b74e9f-6ea3-4b72-98d1-ebd881d3cae3"
    },
    "7bc135ac-2162-4e20-9bf3-221001b53b08": {
     "id": "7bc135ac-2162-4e20-9bf3-221001b53b08",
     "prev": "2a0ff10e-1f8f-4260-b0d1-aa03956efa2c",
     "regions": {
      "7888b9b1-4a42-4b46-8554-a6d04e8249cf": {
       "attrs": {
        "height": 0.19036381514257622,
        "width": 0.5528761061946903,
        "x": 0.10530973451327433,
        "y": 0.10491642084562432
       },
       "content": {
        "cell": "8e94c66a-8598-46b6-8ecf-dd1a3c6d28c2",
        "part": "source"
       },
       "id": "7888b9b1-4a42-4b46-8554-a6d04e8249cf"
      },
      "ffc0edfa-6e1a-4f0b-88d3-68133ba75630": {
       "attrs": {
        "height": 0.4430678466076698,
        "width": 0.6258849557522124,
        "x": 0.15486725663716813,
        "y": 0.34975417895771876
       },
       "content": {
        "cell": "a4ea3da2-36b8-4b28-8c6f-929864f0272d",
        "part": "source"
       },
       "id": "ffc0edfa-6e1a-4f0b-88d3-68133ba75630"
      }
     }
    },
    "86919dfb-ac0d-4721-872c-c977cdcf53a8": {
     "id": "86919dfb-ac0d-4721-872c-c977cdcf53a8",
     "prev": "7bc135ac-2162-4e20-9bf3-221001b53b08",
     "regions": {
      "2dea6acd-bcc7-489d-9bca-06619e5f4437": {
       "attrs": {
        "height": 0.2,
        "width": 0.4,
        "x": 0.5,
        "y": 0.7
       },
       "id": "2dea6acd-bcc7-489d-9bca-06619e5f4437"
      },
      "5615db3b-33d4-4716-aed2-d329c0a878a8": {
       "attrs": {
        "height": 0.2,
        "width": 0.4,
        "x": 0.1,
        "y": 0.7
       },
       "id": "5615db3b-33d4-4716-aed2-d329c0a878a8"
      },
      "c20ecf55-39d0-4ce5-8c5f-1a43cd070ec7": {
       "attrs": {
        "height": 0.6,
        "width": 0.8,
        "x": 0.1,
        "y": 0.1
       },
       "content": {
        "cell": "94e88390-ae8c-400f-943d-626a869e5dbc",
        "part": "source"
       },
       "id": "c20ecf55-39d0-4ce5-8c5f-1a43cd070ec7"
      }
     }
    },
    "b9ed0008-ca0a-4f03-89dc-b06cf20e9e32": {
     "id": "b9ed0008-ca0a-4f03-89dc-b06cf20e9e32",
     "prev": "147ab0f2-f726-4233-aa07-b073db54fe1d",
     "regions": {
      "088f0475-4eef-456e-8352-32416ed0f3d9": {
       "attrs": {
        "height": 0.6,
        "width": 0.8,
        "x": 0.1,
        "y": 0.1
       },
       "content": {
        "cell": "8ba4d8a4-8e0e-480a-b8e9-f524ee82251a",
        "part": "source"
       },
       "id": "088f0475-4eef-456e-8352-32416ed0f3d9"
      },
      "5cc440fe-e592-4b60-9bef-f07e4a49ec41": {
       "attrs": {
        "height": 0.2,
        "width": 0.4,
        "x": 0.1,
        "y": 0.7
       },
       "id": "5cc440fe-e592-4b60-9bef-f07e4a49ec41"
      },
      "f5d2438f-9f57-43af-9fee-ab700af21582": {
       "attrs": {
        "height": 0.2,
        "width": 0.4,
        "x": 0.5,
        "y": 0.7
       },
       "id": "f5d2438f-9f57-43af-9fee-ab700af21582"
      }
     }
    },
    "db7ffa74-eed1-480d-9d55-ba07fe45171a": {
     "id": "db7ffa74-eed1-480d-9d55-ba07fe45171a",
     "prev": "1d6bb72f-450a-4de6-9ece-29152f146c9e",
     "regions": {
      "e0cd20a6-4e29-4544-a039-0076849982b4": {
       "attrs": {
        "height": 0.2049164208456244,
        "width": 0.8021017699115045,
        "x": 0.09834070796460175,
        "y": 0.05594886922320546
       },
       "content": {
        "cell": "e9e465ca-a013-420c-a268-60c02aaed12a",
        "part": "whole"
       },
       "id": "e0cd20a6-4e29-4544-a039-0076849982b4"
      },
      "ff6cd559-919b-4af7-820b-9ff37d262adc": {
       "attrs": {
        "height": 0.6,
        "width": 0.8,
        "x": 0.09999999999999998,
        "y": 0.27879195991347094
       },
       "content": {
        "cell": "7b8de154-c2b1-4ad2-9404-d667f4505bb1",
        "part": "source"
       },
       "id": "ff6cd559-919b-4af7-820b-9ff37d262adc"
      }
     }
    },
    "f0e174b7-6619-4dd0-bbf0-bfdf8a4c5280": {
     "id": "f0e174b7-6619-4dd0-bbf0-bfdf8a4c5280",
     "prev": "682d260e-3551-4e42-a834-9bd433f1ff95",
     "regions": {
      "164cf1f5-e049-4922-a3e8-7e7fa1284947": {
       "attrs": {
        "height": 0.6,
        "width": 0.8,
        "x": 0.1,
        "y": 0.1
       },
       "content": {
        "cell": "395824a3-46fd-4e80-85c2-6f28f82d6393",
        "part": "source"
       },
       "id": "164cf1f5-e049-4922-a3e8-7e7fa1284947"
      },
      "328246dc-e394-482e-ab29-f1ae3389b4df": {
       "attrs": {
        "height": 0.2,
        "width": 0.4,
        "x": 0.5,
        "y": 0.7
       },
       "id": "328246dc-e394-482e-ab29-f1ae3389b4df"
      },
      "b4e46c08-dac3-4f6b-94ee-d146147f95cc": {
       "attrs": {
        "height": 0.2,
        "width": 0.4,
        "x": 0.1,
        "y": 0.7
       },
       "id": "b4e46c08-dac3-4f6b-94ee-d146147f95cc"
      }
     }
    }
   },
   "themes": {
    "default": "88b74e9f-6ea3-4b72-98d1-ebd881d3cae3",
    "theme": {
     "88b74e9f-6ea3-4b72-98d1-ebd881d3cae3": {
      "backgrounds": {
       "backgroundColor": {
        "background-color": "backgroundColor",
        "id": "backgroundColor"
       }
      },
      "id": "88b74e9f-6ea3-4b72-98d1-ebd881d3cae3",
      "palette": {
       "backgroundColor": {
        "id": "backgroundColor",
        "rgb": [
         253,
         246,
         227
        ]
       },
       "headingColor": {
        "id": "headingColor",
        "rgb": [
         88,
         110,
         117
        ]
       },
       "linkColor": {
        "id": "linkColor",
        "rgb": [
         38,
         139,
         210
        ]
       },
       "mainColor": {
        "id": "mainColor",
        "rgb": [
         101,
         123,
         131
        ]
       }
      },
      "rules": {
       "a": {
        "color": "linkColor"
       },
       "h1": {
        "color": "headingColor",
        "font-family": "Oswald",
        "font-size": 7
       },
       "h2": {
        "color": "headingColor",
        "font-family": "Oswald",
        "font-size": 5
       },
       "h3": {
        "color": "headingColor",
        "font-family": "Oswald",
        "font-size": 3.75
       },
       "h4": {
        "color": "headingColor",
        "font-family": "Oswald",
        "font-size": 3
       },
       "h5": {
        "color": "headingColor",
        "font-family": "Oswald"
       },
       "h6": {
        "color": "headingColor",
        "font-family": "Oswald"
       },
       "h7": {
        "color": "headingColor",
        "font-family": "Oswald"
       },
       "li": {
        "color": "mainColor",
        "font-family": "Lato",
        "font-size": 5
       },
       "p": {
        "color": "mainColor",
        "font-family": "Lato",
        "font-size": 5
       }
      },
      "text-base": {
       "color": "mainColor",
       "font-family": "Lato",
       "font-size": 5
      }
     }
    }
   }
  }
 },
 "nbformat": 4,
 "nbformat_minor": 0
}
