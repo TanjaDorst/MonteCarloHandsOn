{
 "cells": [
  {
   "cell_type": "code",
   "execution_count": 1,
   "metadata": {
    "collapsed": false
   },
   "outputs": [
    {
     "name": "stdout",
     "output_type": "stream",
     "text": [
      "Populating the interactive namespace from numpy and matplotlib\n"
     ]
    }
   ],
   "source": [
    "%pylab inline"
   ]
  },
  {
   "cell_type": "markdown",
   "metadata": {},
   "source": [
    "# More Examples"
   ]
  },
  {
   "cell_type": "markdown",
   "metadata": {},
   "source": [
    "## Additive model\n",
    "\n",
    "Example taken from JCGM 101:2008, Clause 9.2.\n",
    "\n",
    "This example considers the additive model\n",
    "\n",
    "$$ Y = X_1 + X_2 + X_3 + X_4 $$\n",
    "\n",
    "for three different sets of PDFs $g_{x_i}(\\xi_i)$ assigned to the input quantities $X_i$, regarded as independent. \n",
    "\n",
    "#### Taks 1\n",
    "Assume that a Gaussian PDF is assigned to each $X_i$. The best estimates are $x_i=0$ with associated standard uncertainties $u(x_i)=1$. Report the Monte Carlo results for estimate, uncertainty and 95% coverage interval of $Y$ with three significant digits. Compare the Monte Carlo result to that of a standard GUM approach using the *law of propagation of uncertainty*."
   ]
  },
  {
   "cell_type": "markdown",
   "metadata": {},
   "source": [
    "#### Task 2\n",
    "Assign a rectangular PDF to each $X_i$ so that $X_i$ has an expectation of zero and a standard deviation of unity. Report the results of $Y$ with three significant digits and compare to that obtained with the standard GUM approach."
   ]
  },
  {
   "cell_type": "markdown",
   "metadata": {},
   "source": [
    "#### Taks 3\n",
    "Same as Taks 2, but with $X_4$ having standard uncertainty of 10 rathern than unity."
   ]
  },
  {
   "cell_type": "markdown",
   "metadata": {},
   "source": [
    "## Mass calibration\n",
    "\n",
    "Example taken from JCGM 101:2008, Clause 9.3\n",
    "\n",
    "Consider the calibration of a weight $W$ of mass density $\\rho_W$ against a reference weight $R$ of mass density $\\rho_R$ having nominally the same mass, using a balance operating in air of mass density $\\rho_a$. Since $\\rho_W$ and $\\rho_R$ are generally diffeent, it is necessary to account for buoyancy effects.\n",
    "\n",
    "Applying Archimedes' principle, the model takes the form\n",
    "\n",
    "$$ m_W\\left( 1 - \\frac{\\rho_a}{\\rho_W} \\right) = (m_R + \\delta m_R)\\left( 1-\\frac{\\rho_a}{\\rho_R} \\right) $$\n",
    "\n",
    "where $\\delta m_R$ is the mass of a small weight of density $\\rho_R$ added to $R$ to balance it with $W$. Working with so called \"conventional masses\", the model in this example ist\n",
    "\n",
    "$$ \\delta m = (m_{R,c} + \\delta m_{R,c})\\left[ 1 + (\\rho_a-\\rho_{a_0})\\left( \\frac{1}{\\rho_W}-\\frac{1}{\\rho_R} \\right) \\right] $$"
   ]
  },
  {
   "cell_type": "markdown",
   "metadata": {},
   "source": [
    "Knowledge about the input quantities is given as\n",
    "\n",
    "![Tabelle](C9.3_Table.pdf)\n",
    "\n",
    "Carry out the uncertainty evaluation using the Monte Carlo method to obtain an estimate, uncertainty and 99% coverage interval."
   ]
  },
  {
   "cell_type": "markdown",
   "metadata": {},
   "source": [
    "## Comparison loss\n",
    "\n",
    "Comparison loss in microwave power meter calibration example taken from JCGM 101:2008, Clause 9.4."
   ]
  },
  {
   "cell_type": "markdown",
   "metadata": {},
   "source": [
    "During the calibration of a microwave power meter, the power meter and a standard power meter are connected in turn to a stable signal generator. The power absorbed by each meter will in general be different because their complex input voltage reflection coefficients are not identical. The ration $Y$ of the power $P_M$ absorbed by the meter being calibrated and that, $P_S$, by the standard meter is\n",
    "\n",
    "$$ Y = \\frac{P_M}{P_S} = \\frac{1-\\vert \\Gamma_M\\vert^2}{1-\\vert \\Gamma_S\\vert^2} \\times \\frac{\\vert 1-\\Gamma_S\\Gamma_G\\vert^2}{\\vert 1-\\Gamma_M\\Gamma_G\\vert^2} $$\n",
    "\n",
    "where $\\Gamma_G$ is the voltage reflection coefficient of the signal generator, $\\Gamma_M$ that of the meter being calibrated and $\\Gamma_S$ the of the standard meter. This power ratio is an instance of \"comparison loss\"."
   ]
  },
  {
   "cell_type": "markdown",
   "metadata": {},
   "source": [
    "#### Task\n",
    "\n",
    "Considering the case that $\\Gamma_S=\\Gamma_G=0$, and measured values are obtained of the real and imaginary parts $X_1, X_2$ of $\\Gamma_M$, the model used in this examples is $ Y = 1 - X_1^2 - X_2^2 $, better expressed as\n",
    "\n",
    "$$ \\delta Y = 1 - Y = X_1^2 + X_2^2 $$\n",
    "\n",
    "$X_1$ and $X_2$ are usually not independent, but it may be difficult to gather information about the actual correlation coefficient. In such cases, the uncertainty evaluation can be repeated with different trial values for the correlation coefficient.\n",
    "\n",
    "Here we use $\\rho=0$ and $\\rho=0.9$. The estimate of $X_1$ is taken as $x_1 = 0.01$ with standard uncertainty $u(x_1) = 0.005$. The estimate of $X_2$ is taken as zero with an associated standard uncertainty of $u(x_2) = 0.005$. \n",
    "\n",
    "Carry out an uncertainty evaluation for $\\delta Y$, calculating estimate and uncertainty using the *law of propagation of uncertainty* and the Monte Method for both correlation coefficients."
   ]
  },
  {
   "cell_type": "code",
   "execution_count": null,
   "metadata": {
    "collapsed": true
   },
   "outputs": [],
   "source": []
  }
 ],
 "metadata": {
  "anaconda-cloud": {},
  "kernelspec": {
   "display_name": "Python [conda root]",
   "language": "python",
   "name": "conda-root-py"
  },
  "language_info": {
   "codemirror_mode": {
    "name": "ipython",
    "version": 3
   },
   "file_extension": ".py",
   "mimetype": "text/x-python",
   "name": "python",
   "nbconvert_exporter": "python",
   "pygments_lexer": "ipython3",
   "version": "3.5.2"
  }
 },
 "nbformat": 4,
 "nbformat_minor": 1
}
